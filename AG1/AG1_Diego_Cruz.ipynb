{
  "nbformat": 4,
  "nbformat_minor": 0,
  "metadata": {
    "colab": {
      "name": "AG1-Diego_Cruz.ipynb",
      "version": "0.3.2",
      "provenance": [],
      "include_colab_link": true
    },
    "kernelspec": {
      "name": "python3",
      "display_name": "Python 3"
    }
  },
  "cells": [
    {
      "cell_type": "markdown",
      "metadata": {
        "id": "view-in-github",
        "colab_type": "text"
      },
      "source": [
        "<a href=\"https://colab.research.google.com/github/diegosym/03MAIR-Algoritmos-de-optimizacion/blob/master/AG1/AG1_Diego_Cruz.ipynb\" target=\"_parent\"><img src=\"https://colab.research.google.com/assets/colab-badge.svg\" alt=\"Open In Colab\"/></a>"
      ]
    },
    {
      "metadata": {
        "id": "776I4l3Aazg3",
        "colab_type": "text"
      },
      "cell_type": "markdown",
      "source": [
        "**AG1 - Actividad Guiada 1**<br>\n",
        "\n",
        "**Diego Cruz**<br>\n",
        "\n",
        "**URL:** https://github.com/diegosym/03MAIR-Algoritmos-de-optimizacion/tree/master/AG1<br>"
      ]
    },
    {
      "metadata": {
        "id": "RpnqyE0q-4ex",
        "colab_type": "code",
        "colab": {}
      },
      "cell_type": "code",
      "source": [
        "# Decorador para calcular tiempo a la funcion para la cual queremos calcular el tiempo de ejecución \n",
        "from time import time\n",
        "#Función para calcular el tiempo de ejecución\n",
        "def calcular_tiempo(f):\n",
        "   \n",
        "    def wrapper(*args, **kwargs):        \n",
        "        inicio = time()       \n",
        "        resultado = f(*args, **kwargs)       \n",
        "        tiempo = time() - inicio\n",
        "        print(\"Tiempo de ejecución para algoritmo: \"+str(tiempo))\n",
        "        return resultado\n",
        "    \n",
        "    return wrapper\n"
      ],
      "execution_count": 0,
      "outputs": []
    },
    {
      "metadata": {
        "id": "irCimh3XN-_A",
        "colab_type": "text"
      },
      "cell_type": "markdown",
      "source": [
        "**Algoritmo Quick Sort. Tecnica Divide y venceras**"
      ]
    },
    {
      "metadata": {
        "id": "QdKNL2nhcDtt",
        "colab_type": "code",
        "outputId": "a882158a-dfad-4bcc-c2b1-e25526b1d940",
        "colab": {
          "base_uri": "https://localhost:8080/",
          "height": 51
        }
      },
      "cell_type": "code",
      "source": [
        "# quick_sort - Tecnica Divide y Venceras\n",
        "\n",
        "A = [9187, 244, 4054, 9222, 8373, 4993, 5265, 5470, 4519, 7182, 2035, 3506, 4337, 7580, 2554, 2824, 8357, 4447, 7379]\n",
        "\n",
        "def quick_sort(A):\n",
        "  if len(A) == 1:\n",
        "    return A\n",
        "  elif len(A) == 2:\n",
        "    return [min(A),max(A)]\n",
        "  \n",
        "  LEFT  = []\n",
        "  RIGHT = []\n",
        "  \n",
        "  pivote = (A[0] + A[1] + A[2] ) / 3\n",
        "  \n",
        "  for i in A:\n",
        "    if i <= pivote:\n",
        "      LEFT.append(i)\n",
        "    else:\n",
        "      RIGHT.append(i)\n",
        "   \n",
        "  return quick_sort(LEFT) + quick_sort(RIGHT)\n",
        "\n",
        "@calcular_tiempo\n",
        "def QS(A):\n",
        "  return quick_sort(A)\n",
        "\n",
        "print(QS(A))"
      ],
      "execution_count": 5,
      "outputs": [
        {
          "output_type": "stream",
          "text": [
            "Tiempo de ejecución para algoritmo: 3.647804260253906e-05\n",
            "[244, 2035, 2554, 2824, 3506, 4054, 4337, 4447, 4519, 4993, 5265, 5470, 7182, 7379, 7580, 8357, 8373, 9187, 9222]\n"
          ],
          "name": "stdout"
        }
      ]
    },
    {
      "metadata": {
        "id": "vRGU-UwzOFEn",
        "colab_type": "text"
      },
      "cell_type": "markdown",
      "source": [
        "**Algoritmo Voraz. Cambio de monedas**"
      ]
    },
    {
      "metadata": {
        "id": "l9lP9TaFjW_6",
        "colab_type": "code",
        "outputId": "90b84566-7cd1-465c-b664-b7d5ef6a9f9c",
        "colab": {
          "base_uri": "https://localhost:8080/",
          "height": 51
        }
      },
      "cell_type": "code",
      "source": [
        "# Cambio_monedas - Implementación de Algoritmo Voraz\n",
        "\n",
        "SISTEMA = [25, 10, 5, 1]\n",
        "\n",
        "\n",
        "@calcular_tiempo\n",
        "def cambio_monedas(C, SISTEMA):\n",
        "  \n",
        "  SOLUCION = []         #Inicializamos el array que contendrá la cantidad de monedas de cada valor\n",
        "  VALOR_ACUMULADO = 0   #Inicializamos el valor acumulado \n",
        "  \n",
        "  for i in range(len(SISTEMA)):                         #Recorremos el sistema monetario (Conjunto de candidatos) \n",
        "    monedas =  int((C - VALOR_ACUMULADO) / SISTEMA[i])  #Calcula la cantidad de monedas de valor SISTEMA[i] (Función de selección)  \n",
        "    SOLUCION.append(monedas)                            #Añade el numero de monedas a la solución \n",
        "    VALOR_ACUMULADO += monedas * SISTEMA[i]             #Incrementa el valor acumulado (Función de factibilidad)\n",
        "  return SOLUCION\n",
        "\n",
        "\n",
        "cambio_monedas(101, SISTEMA)"
      ],
      "execution_count": 32,
      "outputs": [
        {
          "output_type": "stream",
          "text": [
            "Tiempo de ejecución para algoritmo: 8.344650268554688e-06\n"
          ],
          "name": "stdout"
        },
        {
          "output_type": "execute_result",
          "data": {
            "text/plain": [
              "[4, 0, 0, 1]"
            ]
          },
          "metadata": {
            "tags": []
          },
          "execution_count": 32
        }
      ]
    },
    {
      "metadata": {
        "id": "-YFudhTdOqcW",
        "colab_type": "text"
      },
      "cell_type": "markdown",
      "source": [
        "\n",
        "**Algoritmo con  tecnicas de Programación Dinamica . Cambio de monedas**"
      ]
    },
    {
      "metadata": {
        "id": "6zSlzaNkJz5R",
        "colab_type": "code",
        "colab": {
          "base_uri": "https://localhost:8080/",
          "height": 51
        },
        "outputId": "696b8729-24b2-4a09-e4ed-b9c7b43829dd"
      },
      "cell_type": "code",
      "source": [
        "# Cambio_monedas - Implementación por Programación Dinamica\n",
        "\n",
        "@calcular_tiempo\n",
        "def cambio_monedas_PrDim(C,SISTEMA):\n",
        "  \n",
        "  CANTIDAD_MONEDAS =  [0]*(C + 1)  #Inicializamos el array que contendrá la cantidad de monedas minimas para cada una de las cantidades hasta llegar al valor objetivo\n",
        "  TIPO_MAYOR_MONEDA = [0]*(C + 1)  #Inicializamos el array que contendrá la moneda de mayor nominación para cada una de las cantidades hasta llegar al valor objetivo\n",
        "  \n",
        "  for centavos in range(C + 1):  #Recorremos uno a uno los valores hasta llegar al valor solicitado \n",
        "    conteoMonedas = centavos\n",
        "    nuevaMoneda = 1\n",
        "    for j in [m for m in SISTEMA if m <= centavos]: #Recorremos el sistema monetario valido para cada uno de los valores que debemos calcular\n",
        "      if CANTIDAD_MONEDAS[centavos-j] + 1 < conteoMonedas: #Calcula la cantidad minima para cada uno de los valores. \n",
        "        conteoMonedas = CANTIDAD_MONEDAS[centavos-j]+1\n",
        "        nuevaMoneda = j\n",
        "      CANTIDAD_MONEDAS[centavos] = conteoMonedas\n",
        "      TIPO_MAYOR_MONEDA[centavos] = nuevaMoneda\n",
        "  return obtener_solución(C, SISTEMA, TIPO_MAYOR_MONEDA )\n",
        "\n",
        "\n",
        "# Función que por medio del  \"array de la monedas de mayor nominación\" calculado con el algoritmo, obtiene la solución obtima del valor solicitado  \n",
        "def obtener_solución(C, SISTEMA, TIPO_MAYOR_MONEDA ):\n",
        "  moneda = C\n",
        "  SOLUCION  = {key: 0 for key in SISTEMA}\n",
        "  while moneda > 0:\n",
        "    estaMoneda = TIPO_MAYOR_MONEDA[moneda]\n",
        "    SOLUCION[estaMoneda] +=1\n",
        "    moneda -= estaMoneda\n",
        "  return SOLUCION\n",
        "\n",
        "cambio_monedas_PrDim(101,SISTEMA)\n",
        "\n"
      ],
      "execution_count": 20,
      "outputs": [
        {
          "output_type": "stream",
          "text": [
            "Tiempo de ejecución para algoritmo: 0.0001583099365234375\n"
          ],
          "name": "stdout"
        },
        {
          "output_type": "execute_result",
          "data": {
            "text/plain": [
              "{1: 1, 5: 0, 10: 0, 25: 4}"
            ]
          },
          "metadata": {
            "tags": []
          },
          "execution_count": 20
        }
      ]
    },
    {
      "metadata": {
        "id": "bFqLISObO059",
        "colab_type": "text"
      },
      "cell_type": "markdown",
      "source": [
        "**Comparación de los dos algoritmos para SIstemas Monetarios Especiales **"
      ]
    },
    {
      "metadata": {
        "id": "7fGMvyNuDgZL",
        "colab_type": "code",
        "colab": {
          "base_uri": "https://localhost:8080/",
          "height": 85
        },
        "outputId": "82c5a791-43c9-4b5a-a835-1d6771c89e83"
      },
      "cell_type": "code",
      "source": [
        "SISTEMA = [25,21,10,5,1]\n",
        "\n",
        "# Para este Sistema el algoritmo Voraz no puede encontrar la solución optima.\n",
        "print(cambio_monedas(63, SISTEMA))\n",
        "\n",
        "# Para este Sistema el algoritmo por programación dinamica si logra encontrar la solución optima. \n",
        "print(cambio_monedas_PrDim(63,SISTEMA))\n"
      ],
      "execution_count": 25,
      "outputs": [
        {
          "output_type": "stream",
          "text": [
            "Tiempo de ejecución para algoritmo: 1.0251998901367188e-05\n",
            "[2, 0, 1, 0, 3]\n",
            "Tiempo de ejecución para algoritmo: 0.00011610984802246094\n",
            "{25: 0, 21: 3, 10: 0, 5: 0, 1: 0}\n"
          ],
          "name": "stdout"
        }
      ]
    },
    {
      "metadata": {
        "id": "u11hphzwPI8L",
        "colab_type": "text"
      },
      "cell_type": "markdown",
      "source": [
        "**Vuelta Atrás. 8 Reinas**"
      ]
    },
    {
      "metadata": {
        "id": "Trj1qMCynXrJ",
        "colab_type": "code",
        "outputId": "c8425b6e-ed74-428f-a77a-3d07d06663d1",
        "colab": {
          "base_uri": "https://localhost:8080/",
          "height": 306
        }
      },
      "cell_type": "code",
      "source": [
        "# N-Reinas \n",
        "\n",
        "N = 4\n",
        "\n",
        "solucion = [0 for i in range(N) ]\n",
        "\n",
        "etapa =0\n",
        "\n",
        "\n",
        "def es_prometedora(solucion, etapa):\n",
        "  \n",
        "  for i in range(etapa+1):\n",
        "    if solucion.count(solucion[i]) > 1:\n",
        "      return False\n",
        "    \n",
        "    for j in range(i+1, etapa +1):\n",
        "      if abs(i-j) == abs(solucion[i] - solucion[j]):\n",
        "        return False\n",
        "  return True\n",
        "\n",
        "\n",
        "def escribe(S):\n",
        "  n = len(S)\n",
        "  for x in range(n):\n",
        "    print(\"\")\n",
        "    for i in range(n):\n",
        "      if solucion[i] == x+1:\n",
        "        print(\" X \" , end=\"\")\n",
        "      else:\n",
        "        print(\" - \", end=\"\")\n",
        "\n",
        "\n",
        "\n",
        "def reinas(N, solucion, etapa):\n",
        "  \n",
        "  for i in range(1,N+1):\n",
        "    solucion[etapa] = i\n",
        "  \n",
        "    if es_prometedora(solucion, etapa):\n",
        "      if etapa == N-1 :\n",
        "        print(\"\\n\\nLa Solución es:\")\n",
        "        print(solucion)\n",
        "        escribe(solucion)\n",
        "      else:\n",
        "        reinas(N, solucion, etapa + 1)\n",
        "    else:\n",
        "      None\n",
        "\n",
        "    solucion[etapa] = 0\n",
        "  \n",
        "  \n",
        "  \n",
        "reinas(N, solucion, etapa) "
      ],
      "execution_count": 18,
      "outputs": [
        {
          "output_type": "stream",
          "text": [
            "\n",
            "\n",
            "La Solución es:\n",
            "[2, 4, 1, 3]\n",
            "\n",
            " -  -  X  - \n",
            " X  -  -  - \n",
            " -  -  -  X \n",
            " -  X  -  - \n",
            "\n",
            "La Solución es:\n",
            "[3, 1, 4, 2]\n",
            "\n",
            " -  X  -  - \n",
            " -  -  -  X \n",
            " X  -  -  - \n",
            " -  -  X  - "
          ],
          "name": "stdout"
        }
      ]
    }
  ]
}