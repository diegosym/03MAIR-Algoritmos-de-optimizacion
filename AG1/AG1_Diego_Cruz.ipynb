{
  "nbformat": 4,
  "nbformat_minor": 0,
  "metadata": {
    "colab": {
      "name": "AG1-Diego_Cruz.ipynb",
      "version": "0.3.2",
      "provenance": [],
      "include_colab_link": true
    },
    "kernelspec": {
      "name": "python3",
      "display_name": "Python 3"
    }
  },
  "cells": [
    {
      "cell_type": "markdown",
      "metadata": {
        "id": "view-in-github",
        "colab_type": "text"
      },
      "source": [
        "<a href=\"https://colab.research.google.com/github/diegosym/03MAIR-Algoritmos-de-optimizacion/blob/master/AG1/AG1_Diego_Cruz.ipynb\" target=\"_parent\"><img src=\"https://colab.research.google.com/assets/colab-badge.svg\" alt=\"Open In Colab\"/></a>"
      ]
    },
    {
      "metadata": {
        "id": "E9T-59sjY-C9",
        "colab_type": "code",
        "colab": {}
      },
      "cell_type": "code",
      "source": [
        ""
      ],
      "execution_count": 0,
      "outputs": []
    },
    {
      "metadata": {
        "id": "776I4l3Aazg3",
        "colab_type": "text"
      },
      "cell_type": "markdown",
      "source": [
        "AG1 - Actividad Guiada 1<br>\n",
        "\n",
        "Diego Cruz<br>\n",
        "\n",
        "https://github.com/diegosym/03MAIR-Algoritmos-de-optimizacion/tree/master/AG1<br>"
      ]
    },
    {
      "metadata": {
        "id": "QdKNL2nhcDtt",
        "colab_type": "code",
        "colab": {
          "base_uri": "https://localhost:8080/",
          "height": 51
        },
        "outputId": "7e22e3f9-280b-4a6c-d709-a4c458b3426b"
      },
      "cell_type": "code",
      "source": [
        "# quick_sort\n",
        "\n",
        "A = [9187, 244, 4054, 9222, 8373, 4993, 5265, 5470, 4519, 7182, 2035, 3506, 4337, 7580, 2554, 2824, 8357, 4447, 7379]\n",
        "\n",
        "def quick_sort(A):\n",
        "  if len(A) == 1:\n",
        "    return A\n",
        "  elif len(A) == 2:\n",
        "    return [min(A),max(A)]\n",
        "  \n",
        "  LEFT  = []\n",
        "  RIGHT = []\n",
        "  \n",
        "  pivote = (A[0] + A[1] + A[2] ) / 3\n",
        "  \n",
        "  for i in A:\n",
        "    if i <= pivote:\n",
        "      LEFT.append(i)\n",
        "    else:\n",
        "      RIGHT.append(i)\n",
        "   \n",
        "  return quick_sort(LEFT) + quick_sort(RIGHT)\n",
        "\n",
        "@calcular_tiempo\n",
        "def QS(A):\n",
        "  return quick_sort(A)\n",
        "\n",
        "print(QS(A))"
      ],
      "execution_count": 5,
      "outputs": [
        {
          "output_type": "stream",
          "text": [
            "Tiempo de ejecución para algoritmo: 3.552436828613281e-05\n",
            "[244, 2035, 2554, 2824, 3506, 4054, 4337, 4447, 4519, 4993, 5265, 5470, 7182, 7379, 7580, 8357, 8373, 9187, 9222]\n"
          ],
          "name": "stdout"
        }
      ]
    },
    {
      "metadata": {
        "id": "a6E04n3Sf38R",
        "colab_type": "code",
        "colab": {}
      },
      "cell_type": "code",
      "source": [
        "# Decorador para calcular tiempo a la funcion para la cual queremos calcular el tiempo de ejecución \n",
        "from time import time\n",
        "#Función para calcular el tiempo de ejecución\n",
        "def calcular_tiempo(f):\n",
        "   \n",
        "    def wrapper(*args, **kwargs):        \n",
        "        inicio = time()       \n",
        "        resultado = f(*args, **kwargs)       \n",
        "        tiempo = time() - inicio\n",
        "        print(\"Tiempo de ejecución para algoritmo: \"+str(tiempo))\n",
        "        return resultado\n",
        "    \n",
        "    return wrapper\n",
        "\n"
      ],
      "execution_count": 0,
      "outputs": []
    },
    {
      "metadata": {
        "id": "l9lP9TaFjW_6",
        "colab_type": "code",
        "colab": {
          "base_uri": "https://localhost:8080/",
          "height": 51
        },
        "outputId": "1c5a56f7-e0b6-483b-c83a-6ebe74db9ed5"
      },
      "cell_type": "code",
      "source": [
        "# cambio_monedas\n",
        "\n",
        "SISTEMA = [25, 10, 5, 1]\n",
        "\n",
        "\n",
        "@calcular_tiempo\n",
        "def cambio_monedas(C, SISTEMA):\n",
        "  SOLUCION = [0 for i in range(len(SISTEMA))]\n",
        "  \n",
        "  VALOR_ACUMULADO = 0\n",
        "  \n",
        "  for i in range(len(SISTEMA)):\n",
        "    monedas =  int((C - VALOR_ACUMULADO) / SISTEMA[i])\n",
        "    SOLUCION[i] = monedas\n",
        "    VALOR_ACUMULADO += monedas * SISTEMA[i]\n",
        "    \n",
        "    if C == VALOR_ACUMULADO:\n",
        "      return SOLUCION\n",
        "\n",
        "    \n",
        "cambio_monedas(101, SISTEMA)"
      ],
      "execution_count": 11,
      "outputs": [
        {
          "output_type": "stream",
          "text": [
            "Tiempo de ejecución para algoritmo: 9.059906005859375e-06\n"
          ],
          "name": "stdout"
        },
        {
          "output_type": "execute_result",
          "data": {
            "text/plain": [
              "[4, 0, 0, 1]"
            ]
          },
          "metadata": {
            "tags": []
          },
          "execution_count": 11
        }
      ]
    },
    {
      "metadata": {
        "id": "Trj1qMCynXrJ",
        "colab_type": "code",
        "colab": {}
      },
      "cell_type": "code",
      "source": [
        "#reinas\n",
        "\n",
        "N = 4\n",
        "\n",
        "solucion = [0 for i in range(N) ]\n",
        "\n",
        "etapa =0\n",
        "\n",
        "\n",
        "def es_prometedora(solucion, etapa):\n",
        "  \n",
        "  for i in range(etapa+1):\n",
        "    if solucion.count(solucion[i]) > 1:\n",
        "      return False\n",
        "    \n",
        "    for j in range(i+1, etapa +1):\n",
        "      if abs(i-j) == abs (solucion[i] - solucion[j]):\n",
        "        return False\n",
        "  return True\n",
        "\n",
        "\n",
        "\n",
        "def reinas(N, solucion, etapa):\n",
        "  \n",
        "  if es_prometedora(solucion, etapa):\n",
        "    if etapa == N-1 :\n",
        "      print(\"\\n\\nLa Solución es:\")\n",
        "      print(solucion)\n",
        "    else:\n",
        "      reina(N, solucion, etapa + 1)\n",
        "  else:\n",
        "    None\n",
        "  \n",
        "  solucion[etapa] = 0\n",
        "  \n",
        "reinas(N, solucion, etapa) "
      ],
      "execution_count": 0,
      "outputs": []
    }
  ]
}