{
  "nbformat": 4,
  "nbformat_minor": 0,
  "metadata": {
    "colab": {
      "name": "Diego_Cruz_AG2.ipynb",
      "version": "0.3.2",
      "provenance": [],
      "include_colab_link": true
    },
    "kernelspec": {
      "name": "python3",
      "display_name": "Python 3"
    }
  },
  "cells": [
    {
      "cell_type": "markdown",
      "metadata": {
        "id": "view-in-github",
        "colab_type": "text"
      },
      "source": [
        "<a href=\"https://colab.research.google.com/github/diegosym/03MAIR-Algoritmos-de-optimizacion/blob/master/AG2/Diego_Cruz_AG2.ipynb\" target=\"_parent\"><img src=\"https://colab.research.google.com/assets/colab-badge.svg\" alt=\"Open In Colab\"/></a>"
      ]
    },
    {
      "metadata": {
        "id": "WH8R-gPUHyXP",
        "colab_type": "text"
      },
      "cell_type": "markdown",
      "source": [
        "**AG2 - Actividad Guiada 2** <br>\n",
        "**Diego Mauricio Cruz Hernandez** <br>\n",
        "**URL:** https://github.com/diegosym/03MAIR-Algoritmos-de-optimizacion/tree/master/AG2"
      ]
    },
    {
      "metadata": {
        "id": "OLQTrwO5J-Ve",
        "colab_type": "code",
        "colab": {
          "base_uri": "https://localhost:8080/",
          "height": 54
        },
        "outputId": "fc1bab04-9af7-42cd-90fd-405919f8eda3"
      },
      "cell_type": "code",
      "source": [
        "import math\n",
        "import random\n",
        "\n",
        "N = 100\n",
        "LISTA_2D = [ (random.randrange(1,N*10), random.randrange(1,N*10))  for _ in range(N) ]\n",
        "print(LISTA_2D)"
      ],
      "execution_count": 23,
      "outputs": [
        {
          "output_type": "stream",
          "text": [
            "[(373, 128), (326, 808), (642, 360), (319, 487), (910, 570), (934, 757), (333, 185), (920, 177), (559, 893), (195, 48), (604, 793), (828, 6), (813, 508), (233, 145), (934, 687), (932, 989), (440, 42), (198, 788), (954, 798), (835, 277), (447, 929), (678, 368), (1, 9), (512, 591), (688, 607), (759, 485), (635, 996), (910, 121), (576, 83), (736, 361), (15, 728), (802, 218), (249, 850), (901, 624), (55, 466), (826, 461), (263, 440), (487, 909), (451, 666), (931, 687), (418, 716), (3, 719), (5, 483), (48, 68), (388, 174), (143, 70), (877, 282), (765, 980), (502, 108), (448, 879), (950, 133), (64, 549), (157, 333), (935, 215), (62, 172), (408, 990), (200, 132), (507, 423), (649, 75), (809, 923), (457, 632), (25, 336), (709, 449), (254, 622), (312, 323), (366, 889), (786, 606), (710, 399), (584, 909), (194, 460), (7, 326), (599, 997), (865, 268), (773, 743), (229, 980), (75, 477), (948, 942), (467, 422), (820, 37), (985, 613), (779, 408), (369, 621), (602, 754), (921, 660), (443, 826), (421, 552), (570, 893), (286, 269), (267, 183), (274, 752), (915, 674), (962, 470), (796, 723), (291, 97), (149, 885), (578, 123), (31, 354), (490, 952), (31, 25), (819, 592)]\n"
          ],
          "name": "stdout"
        }
      ]
    },
    {
      "metadata": {
        "id": "E5guCdISLyLg",
        "colab_type": "code",
        "colab": {}
      },
      "cell_type": "code",
      "source": [
        "# Decorador para calcular tiempo a la funcion para la cual queremos calcular el tiempo de ejecución \n",
        "from time import time\n",
        "#Función para calcular el tiempo de ejecución\n",
        "def calcular_tiempo(f):\n",
        "   \n",
        "    def wrapper(*args, **kwargs):        \n",
        "        inicio = time()       \n",
        "        resultado = f(*args, **kwargs)       \n",
        "        tiempo = time() - inicio\n",
        "        print(\"Tiempo de ejecución para algoritmo: \"+str(tiempo))\n",
        "        return resultado\n",
        "    \n",
        "    return wrapper\n"
      ],
      "execution_count": 0,
      "outputs": []
    },
    {
      "metadata": {
        "id": "dZF-XzxtILDs",
        "colab_type": "code",
        "colab": {
          "base_uri": "https://localhost:8080/",
          "height": 34
        },
        "outputId": "7fd4ae83-0d73-4c29-eaa8-d3f27113175b"
      },
      "cell_type": "code",
      "source": [
        "def distancia(A,B):\n",
        "  if type(A) is int or type(A) is float:\n",
        "    return abs(B-A)\n",
        "  else: \n",
        "    return math.sqrt(sum([  (A[i]-B[i])**2 for i in range(len(A))  ]))\n",
        "  \n",
        "\n",
        "distancia ((1,3),(2,5))"
      ],
      "execution_count": 8,
      "outputs": [
        {
          "output_type": "execute_result",
          "data": {
            "text/plain": [
              "2.23606797749979"
            ]
          },
          "metadata": {
            "tags": []
          },
          "execution_count": 8
        }
      ]
    },
    {
      "metadata": {
        "id": "OWlsUK2jLcp6",
        "colab_type": "code",
        "colab": {
          "base_uri": "https://localhost:8080/",
          "height": 34
        },
        "outputId": "5914791f-0cb8-45b0-8183-0afb00e65b7c"
      },
      "cell_type": "code",
      "source": [
        "#Fuerza Bruta\n",
        "#@calcular_tiempo\n",
        "def distancia_fuerza_bruta(L):\n",
        "  mejor_distancia = 10000e10\n",
        "  \n",
        "  A,B = (),()\n",
        "  \n",
        "  for i in range(len(L)):\n",
        "    for j in range(i+1,len(L)):\n",
        "      #print(L[i],L[j])\n",
        "      D = distancia (L[i],L[j])\n",
        "      if D < mejor_distancia:\n",
        "        A,B = L[i], L[j]\n",
        "        mejor_distancia = D\n",
        "  return [A,B]\n",
        " \n",
        "distancia_fuerza_bruta(LISTA_2D)"
      ],
      "execution_count": 24,
      "outputs": [
        {
          "output_type": "execute_result",
          "data": {
            "text/plain": [
              "[(934, 687), (931, 687)]"
            ]
          },
          "metadata": {
            "tags": []
          },
          "execution_count": 24
        }
      ]
    },
    {
      "metadata": {
        "id": "wokgJ0LZPv9J",
        "colab_type": "code",
        "colab": {
          "base_uri": "https://localhost:8080/",
          "height": 51
        },
        "outputId": "88f6220b-7396-463f-a25b-15b8bfb82c17"
      },
      "cell_type": "code",
      "source": [
        "#Divide y Venceras\n",
        "\n",
        "def distancia_divide_y_venceras(L):\n",
        "  #Si hay pocos aplicamos fuerza Bruta \n",
        "  if len(L) < 10:\n",
        "    return distancia_fuerza_bruta(L)\n",
        "  \n",
        "  #Dividir en listas grades\n",
        "  #pivote = sum([ L[i][0] for i in range(len(L))]) / len(L) # Se calcula la media con la primera coordenada para ser usada como pivote\n",
        " \n",
        "  LISTA_IZQ = sorted (L, key=lambda x: x[0] )[:len(L)//2]\n",
        "  LISTA_DER = sorted (L, key=lambda x: x[0] )[len(L)//2:]\n",
        "  \n",
        "  PUNTOS_LISTA_IZQ = distancia_divide_y_venceras(LISTA_IZQ)\n",
        "  PUNTOS_LISTA_DER = distancia_divide_y_venceras(LISTA_DER)\n",
        "  \n",
        "  return distancia_fuerza_bruta(PUNTOS_LISTA_IZQ +  PUNTOS_LISTA_DER)\n",
        "  \n",
        "  #print(LISTA_IZQ)\n",
        "  #print(LISTA_DER)\n",
        "  \n",
        "@calcular_tiempo\n",
        "def LANZA(L):\n",
        "  return distancia_divide_y_venceras(L)\n",
        "  \n",
        "SOL = LANZA(LISTA_2D[:1000])\n",
        "print(SOL)"
      ],
      "execution_count": 32,
      "outputs": [
        {
          "output_type": "stream",
          "text": [
            "Tiempo de ejecución para algoritmo: 0.002071857452392578\n",
            "[(559, 893), (570, 893)]\n"
          ],
          "name": "stdout"
        }
      ]
    },
    {
      "metadata": {
        "id": "U3YYcLGnW2Cq",
        "colab_type": "code",
        "colab": {
          "base_uri": "https://localhost:8080/",
          "height": 88
        },
        "outputId": "8cf90612-8ce3-4b5d-d148-19488ae5b511"
      },
      "cell_type": "code",
      "source": [
        "TARIFAS = [\n",
        "  [0,5,4,3,999,999,999],\n",
        "  [999,0,999,2,3,999,11],\n",
        "  [999,999, 0,1,999,4,10],\n",
        "  [999,999,999, 0,5,6,9],\n",
        "  [999,999, 999,999,0,999,4],\n",
        "  [999,999, 999,999,999,0,3],\n",
        "  [999,999,999,999,999,999,0]\n",
        "]\n",
        "\n",
        "#Paseo por el rio\n",
        "def Precios(TARIFAS):\n",
        "  N = len(TARIFAS[0])\n",
        "  \n",
        "  PRECIOS = [ [9999]*N for i in [9999]*N ]\n",
        "  RUTA = [[\"\"]*N for i in [9999]*N ]\n",
        "  \n",
        "  #print(PRECIOS)\n",
        "  #print(RUTA)\n",
        "  \n",
        "  for i in range(N-1):\n",
        "    for j in range(i+1, N):\n",
        "      MIN = TARIFAS[i][j]\n",
        "      RUTA[i][j] = i\n",
        "      \n",
        "      for k in range(i,j):\n",
        "        if PRECIOS[i][k] + TARIFAS[k][j] < MIN:\n",
        "          MIN = min (MIN , PRECIOS[i][k] + TARIFAS[k][j]  )\n",
        "          RUTA[i][j] = k\n",
        "      PRECIOS[i][j] = MIN\n",
        "      \n",
        "  return PRECIOS, RUTA\n",
        "  \n",
        "  \n",
        "PRECIOS, RUTA = Precios(TARIFAS)\n",
        "\n",
        "print(PRECIOS)\n",
        "\n",
        "print()\n",
        "\n",
        "print(RUTA)"
      ],
      "execution_count": 41,
      "outputs": [
        {
          "output_type": "stream",
          "text": [
            "[[9999, 5, 4, 3, 8, 8, 11], [9999, 9999, 999, 2, 3, 8, 7], [9999, 9999, 9999, 1, 6, 4, 7], [9999, 9999, 9999, 9999, 5, 6, 9], [9999, 9999, 9999, 9999, 9999, 999, 4], [9999, 9999, 9999, 9999, 9999, 9999, 3], [9999, 9999, 9999, 9999, 9999, 9999, 9999]]\n",
            "\n",
            "[['', 0, 0, 0, 1, 2, 5], ['', '', 1, 1, 1, 3, 4], ['', '', '', 2, 3, 2, 5], ['', '', '', '', 3, 3, 3], ['', '', '', '', '', 4, 4], ['', '', '', '', '', '', 5], ['', '', '', '', '', '', '']]\n"
          ],
          "name": "stdout"
        }
      ]
    },
    {
      "metadata": {
        "id": "qzxDQ4t2agTf",
        "colab_type": "code",
        "colab": {
          "base_uri": "https://localhost:8080/",
          "height": 68
        },
        "outputId": "f58c9418-66df-49b8-e3d0-a59bca112b57"
      },
      "cell_type": "code",
      "source": [
        "def calcular_ruta(RUTA, desde, hasta ):\n",
        "  if desde == hasta:\n",
        "    #print(\"Ir a :\" + str(desde))\n",
        "    return desde \n",
        "  else:\n",
        "    return str(calcular_ruta(RUTA, desde, RUTA[desde][hasta])) +  ',' + str(RUTA[desde][hasta]) \n",
        "\n",
        "print(\"\\nLa ruta es:\")  \n",
        "calcular_ruta(RUTA, 0,6)"
      ],
      "execution_count": 43,
      "outputs": [
        {
          "output_type": "stream",
          "text": [
            "\n",
            "La ruta es:\n"
          ],
          "name": "stdout"
        },
        {
          "output_type": "execute_result",
          "data": {
            "text/plain": [
              "'0,0,2,5'"
            ]
          },
          "metadata": {
            "tags": []
          },
          "execution_count": 43
        }
      ]
    }
  ]
}