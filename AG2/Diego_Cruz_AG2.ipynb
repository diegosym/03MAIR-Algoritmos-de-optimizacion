{
  "nbformat": 4,
  "nbformat_minor": 0,
  "metadata": {
    "colab": {
      "name": "Diego_Cruz_AG2.ipynb",
      "version": "0.3.2",
      "provenance": [],
      "include_colab_link": true
    },
    "kernelspec": {
      "name": "python3",
      "display_name": "Python 3"
    }
  },
  "cells": [
    {
      "cell_type": "markdown",
      "metadata": {
        "id": "view-in-github",
        "colab_type": "text"
      },
      "source": [
        "<a href=\"https://colab.research.google.com/github/diegosym/03MAIR-Algoritmos-de-optimizacion/blob/master/AG2/Diego_Cruz_AG2.ipynb\" target=\"_parent\"><img src=\"https://colab.research.google.com/assets/colab-badge.svg\" alt=\"Open In Colab\"/></a>"
      ]
    },
    {
      "metadata": {
        "id": "WH8R-gPUHyXP",
        "colab_type": "text"
      },
      "cell_type": "markdown",
      "source": [
        "**AG2 - Actividad Guiada 2** <br>\n",
        "**Diego Mauricio Cruz Hernandez** <br>\n",
        "**URL:** https://github.com/diegosym/03MAIR-Algoritmos-de-optimizacion/tree/master/AG2"
      ]
    },
    {
      "metadata": {
        "id": "E5guCdISLyLg",
        "colab_type": "code",
        "colab": {}
      },
      "cell_type": "code",
      "source": [
        "# Decorador para calcular tiempo a la funcion para la cual queremos calcular el tiempo de ejecución \n",
        "from time import time\n",
        "#Función para calcular el tiempo de ejecución\n",
        "def calcular_tiempo(f):\n",
        "   \n",
        "    def wrapper(*args, **kwargs):        \n",
        "        inicio = time()       \n",
        "        resultado = f(*args, **kwargs)       \n",
        "        tiempo = time() - inicio\n",
        "        print(\"Tiempo de ejecución para algoritmo: \"+str(tiempo))\n",
        "        return resultado\n",
        "    \n",
        "    return wrapper\n"
      ],
      "execution_count": 0,
      "outputs": []
    },
    {
      "metadata": {
        "id": "tLkO0AHwJf2g",
        "colab_type": "text"
      },
      "cell_type": "markdown",
      "source": [
        "**Dos puntos más cercanos. Fuerza bruta vs Divide y Vencerás**"
      ]
    },
    {
      "metadata": {
        "id": "OLQTrwO5J-Ve",
        "colab_type": "code",
        "outputId": "15e9693d-aa21-42a4-dcb3-fba798c575cf",
        "colab": {
          "base_uri": "https://localhost:8080/",
          "height": 54
        }
      },
      "cell_type": "code",
      "source": [
        "import math\n",
        "import random\n",
        "\n",
        "N = 100\n",
        "LISTA_2D = [ (random.randrange(1,N*10), random.randrange(1,N*10))  for _ in range(N) ]\n",
        "print(LISTA_2D)"
      ],
      "execution_count": 2,
      "outputs": [
        {
          "output_type": "stream",
          "text": [
            "[(163, 632), (629, 410), (754, 244), (320, 395), (856, 505), (52, 808), (633, 365), (650, 764), (541, 571), (750, 265), (431, 793), (585, 963), (77, 231), (725, 593), (756, 629), (187, 434), (843, 667), (726, 58), (483, 164), (209, 850), (323, 434), (232, 130), (573, 949), (393, 945), (876, 712), (220, 564), (515, 493), (607, 867), (446, 21), (972, 905), (136, 178), (102, 475), (564, 122), (321, 398), (687, 296), (69, 497), (518, 555), (850, 269), (327, 930), (411, 954), (217, 103), (671, 496), (787, 72), (192, 704), (281, 559), (991, 767), (354, 499), (164, 742), (723, 871), (638, 756), (592, 60), (335, 931), (123, 867), (639, 35), (584, 164), (9, 684), (742, 411), (493, 504), (154, 45), (772, 443), (217, 833), (88, 54), (699, 357), (786, 760), (674, 851), (983, 775), (544, 841), (370, 338), (523, 263), (41, 649), (226, 852), (540, 445), (55, 265), (814, 718), (507, 536), (237, 257), (380, 538), (439, 693), (875, 741), (370, 804), (717, 748), (295, 808), (428, 252), (633, 89), (893, 127), (940, 988), (823, 244), (180, 314), (359, 768), (761, 143), (211, 463), (263, 74), (204, 479), (999, 631), (636, 594), (645, 958), (19, 304), (516, 779), (680, 960), (721, 58)]\n"
          ],
          "name": "stdout"
        }
      ]
    },
    {
      "metadata": {
        "id": "dZF-XzxtILDs",
        "colab_type": "code",
        "outputId": "d1352f6e-2cd7-4748-fc4b-c191d5ee83ca",
        "colab": {
          "base_uri": "https://localhost:8080/",
          "height": 34
        }
      },
      "cell_type": "code",
      "source": [
        "def distancia(A,B):\n",
        "  if type(A) is int or type(A) is float:\n",
        "    return abs(B-A)\n",
        "  else: \n",
        "    return math.sqrt(sum([  (A[i]-B[i])**2 for i in range(len(A))  ]))\n",
        "  \n",
        "\n",
        "distancia ((1,3),(2,5))"
      ],
      "execution_count": 3,
      "outputs": [
        {
          "output_type": "execute_result",
          "data": {
            "text/plain": [
              "2.23606797749979"
            ]
          },
          "metadata": {
            "tags": []
          },
          "execution_count": 3
        }
      ]
    },
    {
      "metadata": {
        "id": "OWlsUK2jLcp6",
        "colab_type": "code",
        "outputId": "0852fcfe-bda2-4b64-934f-063865bf6305",
        "colab": {
          "base_uri": "https://localhost:8080/",
          "height": 34
        }
      },
      "cell_type": "code",
      "source": [
        "#Fuerza Bruta\n",
        "\n",
        "def distancia_fuerza_bruta(L):\n",
        "  mejor_distancia = 10000e10\n",
        "  \n",
        "  A,B = (),()\n",
        "  \n",
        "  for i in range(len(L)):\n",
        "    for j in range(i+1,len(L)):\n",
        "      D = distancia (L[i],L[j])\n",
        "      if D < mejor_distancia:\n",
        "        A,B = L[i], L[j]\n",
        "        mejor_distancia = D\n",
        "  return [A,B]\n",
        " \n",
        "distancia_fuerza_bruta(LISTA_2D)"
      ],
      "execution_count": 31,
      "outputs": [
        {
          "output_type": "execute_result",
          "data": {
            "text/plain": [
              "[(320, 395), (321, 398)]"
            ]
          },
          "metadata": {
            "tags": []
          },
          "execution_count": 31
        }
      ]
    },
    {
      "metadata": {
        "id": "wokgJ0LZPv9J",
        "colab_type": "code",
        "outputId": "9c3ae4c5-4dc9-4987-bb51-9fd8b4b92100",
        "colab": {
          "base_uri": "https://localhost:8080/",
          "height": 51
        }
      },
      "cell_type": "code",
      "source": [
        "#Divide y Venceras\n",
        "\n",
        "def distancia_divide_y_venceras(L):\n",
        "  #Si hay pocos aplicamos fuerza Bruta \n",
        "  if len(L) < 10:\n",
        "    return distancia_fuerza_bruta(L)\n",
        "  \n",
        "  #Dividir en listas grades\n",
        "  #pivote = sum([ L[i][0] for i in range(len(L))]) / len(L) # Se calcula la media con la primera coordenada para ser usada como pivote\n",
        " \n",
        "  LISTA_IZQ = sorted (L, key=lambda x: x[0] )[:len(L)//2]\n",
        "  LISTA_DER = sorted (L, key=lambda x: x[0] )[len(L)//2:]\n",
        "  \n",
        "  PUNTOS_LISTA_IZQ = distancia_divide_y_venceras(LISTA_IZQ)\n",
        "  PUNTOS_LISTA_DER = distancia_divide_y_venceras(LISTA_DER)\n",
        "  \n",
        "  return distancia_fuerza_bruta(PUNTOS_LISTA_IZQ +  PUNTOS_LISTA_DER)\n",
        "  \n",
        "    \n",
        "@calcular_tiempo\n",
        "def LANZA(L):\n",
        "  return distancia_divide_y_venceras(L)\n",
        "  \n",
        "SOL = LANZA(LISTA_2D[:1000])\n",
        "print(SOL)"
      ],
      "execution_count": 32,
      "outputs": [
        {
          "output_type": "stream",
          "text": [
            "Tiempo de ejecución para algoritmo: 0.0010013580322265625\n",
            "[(320, 395), (321, 398)]\n"
          ],
          "name": "stdout"
        }
      ]
    },
    {
      "metadata": {
        "id": "ZqLV5a2x42E2",
        "colab_type": "text"
      },
      "cell_type": "markdown",
      "source": [
        "Para capturar el tiempo que tarda cada una de nuestras funciones en ejecutarse, utilizaremos el módulo **timeit** de Python. El módulo **timeit** está diseñado para permitir realizar mediciones de tiempos entre plataformas ejecutando funciones en un entorno consistente y utilizando mecanismos de temporización que sean lo más similares posibles entre sistemas operativos."
      ]
    },
    {
      "metadata": {
        "id": "5FePuwGfXtKd",
        "colab_type": "code",
        "colab": {
          "base_uri": "https://localhost:8080/",
          "height": 221
        },
        "outputId": "14fdf466-997b-4cc8-d8b6-982435876c89"
      },
      "cell_type": "code",
      "source": [
        "import timeit # modulo para comparar tiempo entre algoritmos \n",
        "import matplotlib.pyplot as plt # modulo para realizar graficas\n",
        "\n",
        "# Creamos dos objetos Timer que reciben dos parametros. \n",
        "# En el primer parametro  primer parámetro pasamos las funciones a los cuales deseamos medir el tiempo.\n",
        "# En el segundo parámetro importamos las estructuras que python necesita para realizar la prueba.\n",
        "\n",
        "fuerza_bruta = timeit.Timer(\"distancia_fuerza_bruta(L)\",\n",
        "                \"from __main__ import distancia_fuerza_bruta, L\")\n",
        "\n",
        "divide_y_venceras = timeit.Timer(\"distancia_divide_y_venceras(L)\",\n",
        "               \"from __main__ import distancia_divide_y_venceras,  L\")\n",
        "\n",
        "print(\"distancia_fuerza_bruta()   distancia_divide_y_venceras()\")\n",
        "\n",
        "list1 = []\n",
        "list2 = []\n",
        "\n",
        "# Configuramos un ciclo, para comparar los dos algoritmos, comenzando con listas de 100 que iremos aumentando de 100 en 100 hasta 1000.\n",
        "# Obtendremos dos listas con cada uno de los tiempos obtenidos en cada iteración \n",
        "\n",
        "for i in range(1000,2001,100):\n",
        "    \n",
        "    N = i\n",
        "    L = [ (random.randrange(1,N*10), random.randrange(1,N*10))  for _ in range(N) ]    \n",
        "    \n",
        "    dfb = fuerza_bruta.timeit(number=1)\n",
        "    list1.append(dfb)\n",
        "    ddv = divide_y_venceras.timeit(number=1)\n",
        "    list2.append(ddv)\n",
        "    print(\"%15.5f, %15.5f\" %(dfb,ddv))\n",
        "\n",
        "    \n"
      ],
      "execution_count": 44,
      "outputs": [
        {
          "output_type": "stream",
          "text": [
            "distancia_fuerza_bruta()   distancia_divide_y_venceras()\n",
            "        1.03481,         0.01177\n",
            "        1.25930,         0.01387\n",
            "        1.46655,         0.01451\n",
            "        1.74804,         0.01508\n",
            "        2.00275,         0.01680\n",
            "        2.32710,         0.01838\n",
            "        2.67142,         0.02002\n",
            "        2.98603,         0.02190\n",
            "        3.33394,         0.02328\n",
            "        3.68057,         0.02556\n",
            "        4.08549,         0.02821\n"
          ],
          "name": "stdout"
        }
      ]
    },
    {
      "metadata": {
        "id": "_Qe46sQ521mh",
        "colab_type": "code",
        "colab": {
          "base_uri": "https://localhost:8080/",
          "height": 403
        },
        "outputId": "9319b293-81b3-45d9-de0a-c8743c5d3a4e"
      },
      "cell_type": "code",
      "source": [
        "# Con las listas obtenidas en el paso anterior, hacemos un grafica para de manera visual comparar el rendimiento de los dos algoritmos. \n",
        "\n",
        "fig, ax = plt.subplots()\n",
        "p1= ax.plot([i for i in range (1000,2001,100)], list1, label='Algoritmo Fuerza Bruta')\n",
        "p2= ax.plot([i for i in range (1000,2001,100)], list2, label='Algoritmo Divide y Venceras')\n",
        "\n",
        "ax.set(xlabel='tamano de la lista', ylabel='tiempo (segundos)',\n",
        "       title='Comparación de la complejidad entre los algoritmos')\n",
        "ax.grid()\n",
        "\n",
        "fig.legend()\n",
        "\n",
        "plt.show()"
      ],
      "execution_count": 43,
      "outputs": [
        {
          "output_type": "display_data",
          "data": {
            "image/png": "[encoded data removed]",
            "text/plain": [
              "<Figure size 576x396 with 1 Axes>"
            ]
          },
          "metadata": {
            "tags": []
          }
        }
      ]
    },
    {
      "metadata": {
        "id": "dIX0OiiVJ9kR",
        "colab_type": "text"
      },
      "cell_type": "markdown",
      "source": [
        "**Viaje por el rio. Programación Dinámica**"
      ]
    },
    {
      "metadata": {
        "id": "U3YYcLGnW2Cq",
        "colab_type": "code",
        "outputId": "13f3f9ee-bdbc-4ca2-fba5-215991d73f9c",
        "colab": {
          "base_uri": "https://localhost:8080/",
          "height": 88
        }
      },
      "cell_type": "code",
      "source": [
        "TARIFAS = [\n",
        "  [0,5,4,3,999,999,999],\n",
        "  [999,0,999,2,3,999,11],\n",
        "  [999,999, 0,1,999,4,10],\n",
        "  [999,999,999, 0,5,6,9],\n",
        "  [999,999, 999,999,0,999,4],\n",
        "  [999,999, 999,999,999,0,3],\n",
        "  [999,999,999,999,999,999,0]\n",
        "]\n",
        "\n",
        "#Viaje por el rio\n",
        "def Precios(TARIFAS):\n",
        "  N = len(TARIFAS[0])\n",
        "  \n",
        "  PRECIOS = [ [9999]*N for i in [9999]*N ]\n",
        "  RUTA = [[\"\"]*N for i in [9999]*N ]\n",
        "  \n",
        "  #print(PRECIOS)\n",
        "  #print(RUTA)\n",
        "  \n",
        "  for i in range(N-1):\n",
        "    for j in range(i+1, N):\n",
        "      MIN = TARIFAS[i][j]\n",
        "      RUTA[i][j] = i\n",
        "      \n",
        "      for k in range(i,j):\n",
        "        if PRECIOS[i][k] + TARIFAS[k][j] < MIN:\n",
        "          MIN = min (MIN , PRECIOS[i][k] + TARIFAS[k][j]  )\n",
        "          RUTA[i][j] = k\n",
        "      PRECIOS[i][j] = MIN\n",
        "      \n",
        "  return PRECIOS, RUTA\n",
        "  \n",
        "  \n",
        "PRECIOS, RUTA = Precios(TARIFAS)\n",
        "\n",
        "print(PRECIOS)\n",
        "\n",
        "print()\n",
        "\n",
        "print(RUTA)"
      ],
      "execution_count": 6,
      "outputs": [
        {
          "output_type": "stream",
          "text": [
            "[[9999, 5, 4, 3, 8, 8, 11], [9999, 9999, 999, 2, 3, 8, 7], [9999, 9999, 9999, 1, 6, 4, 7], [9999, 9999, 9999, 9999, 5, 6, 9], [9999, 9999, 9999, 9999, 9999, 999, 4], [9999, 9999, 9999, 9999, 9999, 9999, 3], [9999, 9999, 9999, 9999, 9999, 9999, 9999]]\n",
            "\n",
            "[['', 0, 0, 0, 1, 2, 5], ['', '', 1, 1, 1, 3, 4], ['', '', '', 2, 3, 2, 5], ['', '', '', '', 3, 3, 3], ['', '', '', '', '', 4, 4], ['', '', '', '', '', '', 5], ['', '', '', '', '', '', '']]\n"
          ],
          "name": "stdout"
        }
      ]
    },
    {
      "metadata": {
        "id": "qzxDQ4t2agTf",
        "colab_type": "code",
        "outputId": "1c706f15-c09d-4283-dd74-f23a332ac09d",
        "colab": {
          "base_uri": "https://localhost:8080/",
          "height": 68
        }
      },
      "cell_type": "code",
      "source": [
        "def calcular_ruta(RUTA, desde, hasta ):\n",
        "  if desde == hasta:\n",
        "    return desde \n",
        "  else:\n",
        "    return str(calcular_ruta(RUTA, desde, RUTA[desde][hasta])) +  ',' + str(RUTA[desde][hasta]) \n",
        "\n",
        "print(\"\\nLa ruta es:\")  \n",
        "calcular_ruta(RUTA, 0,6)"
      ],
      "execution_count": 7,
      "outputs": [
        {
          "output_type": "stream",
          "text": [
            "\n",
            "La ruta es:\n"
          ],
          "name": "stdout"
        },
        {
          "output_type": "execute_result",
          "data": {
            "text/plain": [
              "'0,0,2,5'"
            ]
          },
          "metadata": {
            "tags": []
          },
          "execution_count": 7
        }
      ]
    }
  ]
}