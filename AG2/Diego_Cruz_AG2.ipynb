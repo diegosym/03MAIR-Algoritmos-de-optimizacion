{
  "nbformat": 4,
  "nbformat_minor": 0,
  "metadata": {
    "colab": {
      "name": "Diego_Cruz_AG2.ipynb",
      "version": "0.3.2",
      "provenance": [],
      "include_colab_link": true
    },
    "kernelspec": {
      "name": "python3",
      "display_name": "Python 3"
    }
  },
  "cells": [
    {
      "cell_type": "markdown",
      "metadata": {
        "id": "view-in-github",
        "colab_type": "text"
      },
      "source": [
        "<a href=\"https://colab.research.google.com/github/diegosym/03MAIR-Algoritmos-de-optimizacion/blob/master/AG2/Diego_Cruz_AG2.ipynb\" target=\"_parent\"><img src=\"https://colab.research.google.com/assets/colab-badge.svg\" alt=\"Open In Colab\"/></a>"
      ]
    },
    {
      "metadata": {
        "id": "WH8R-gPUHyXP",
        "colab_type": "text"
      },
      "cell_type": "markdown",
      "source": [
        "**AG2 - Actividad Guiada 2** <br>\n",
        "**Diego Mauricio Cruz Hernandez** <br>\n",
        "**URL:** https://github.com/diegosym/03MAIR-Algoritmos-de-optimizacion/tree/master/AG2"
      ]
    },
    {
      "metadata": {
        "id": "E5guCdISLyLg",
        "colab_type": "code",
        "colab": {}
      },
      "cell_type": "code",
      "source": [
        "# Decorador para calcular tiempo a la funcion para la cual queremos calcular el tiempo de ejecución \n",
        "from time import time\n",
        "#Función para calcular el tiempo de ejecución\n",
        "def calcular_tiempo(f):\n",
        "   \n",
        "    def wrapper(*args, **kwargs):        \n",
        "        inicio = time()       \n",
        "        resultado = f(*args, **kwargs)       \n",
        "        tiempo = time() - inicio\n",
        "        print(\"Tiempo de ejecución para algoritmo: \"+str(tiempo))\n",
        "        return resultado\n",
        "    \n",
        "    return wrapper\n"
      ],
      "execution_count": 0,
      "outputs": []
    },
    {
      "metadata": {
        "id": "mGTHcuwrJfGZ",
        "colab_type": "code",
        "colab": {}
      },
      "cell_type": "code",
      "source": [
        ""
      ],
      "execution_count": 0,
      "outputs": []
    },
    {
      "metadata": {
        "id": "tLkO0AHwJf2g",
        "colab_type": "text"
      },
      "cell_type": "markdown",
      "source": [
        "**Dos puntos más cercanos. Fuerza bruta vs Divide y Vencerás**"
      ]
    },
    {
      "metadata": {
        "id": "OLQTrwO5J-Ve",
        "colab_type": "code",
        "outputId": "b53b1974-5990-4f3e-a95a-f494334e5123",
        "colab": {
          "base_uri": "https://localhost:8080/",
          "height": 54
        }
      },
      "cell_type": "code",
      "source": [
        "import math\n",
        "import random\n",
        "\n",
        "N = 100\n",
        "LISTA_2D = [ (random.randrange(1,N*10), random.randrange(1,N*10))  for _ in range(N) ]\n",
        "print(LISTA_2D)"
      ],
      "execution_count": 13,
      "outputs": [
        {
          "output_type": "stream",
          "text": [
            "[(452, 382), (606, 805), (969, 106), (356, 328), (804, 809), (996, 373), (229, 786), (341, 922), (979, 223), (705, 24), (20, 557), (861, 590), (385, 245), (724, 244), (412, 249), (714, 31), (968, 420), (295, 979), (917, 990), (219, 192), (103, 243), (636, 344), (267, 636), (326, 475), (829, 873), (359, 361), (459, 724), (324, 644), (585, 716), (446, 851), (693, 910), (78, 468), (441, 155), (627, 884), (831, 419), (546, 339), (858, 597), (292, 784), (347, 666), (556, 920), (318, 792), (223, 585), (510, 594), (217, 665), (591, 173), (813, 294), (527, 989), (173, 657), (252, 791), (28, 477), (535, 214), (211, 908), (505, 439), (822, 817), (329, 397), (698, 421), (894, 417), (643, 211), (941, 584), (165, 567), (55, 998), (176, 880), (446, 484), (615, 535), (687, 54), (898, 903), (294, 237), (51, 639), (536, 604), (992, 632), (92, 370), (935, 939), (433, 584), (267, 469), (942, 387), (10, 305), (256, 380), (492, 433), (402, 91), (402, 25), (22, 893), (702, 853), (715, 18), (260, 284), (634, 954), (830, 656), (962, 914), (982, 554), (897, 658), (481, 637), (63, 296), (918, 716), (179, 780), (553, 189), (993, 7), (696, 670), (114, 954), (963, 181), (764, 734), (944, 724)]\n"
          ],
          "name": "stdout"
        }
      ]
    },
    {
      "metadata": {
        "id": "dZF-XzxtILDs",
        "colab_type": "code",
        "outputId": "d9162622-0764-46f7-f132-c6b756534856",
        "colab": {
          "base_uri": "https://localhost:8080/",
          "height": 34
        }
      },
      "cell_type": "code",
      "source": [
        "def distancia(A,B):\n",
        "  if type(A) is int or type(A) is float:\n",
        "    return abs(B-A)\n",
        "  else: \n",
        "    return math.sqrt(sum([  (A[i]-B[i])**2 for i in range(len(A))  ]))\n",
        "  \n",
        "\n",
        "distancia ((1,3),(2,5))"
      ],
      "execution_count": 14,
      "outputs": [
        {
          "output_type": "execute_result",
          "data": {
            "text/plain": [
              "2.23606797749979"
            ]
          },
          "metadata": {
            "tags": []
          },
          "execution_count": 14
        }
      ]
    },
    {
      "metadata": {
        "id": "OWlsUK2jLcp6",
        "colab_type": "code",
        "outputId": "23aa1b25-0458-47bf-a1fa-3fe63bb64acf",
        "colab": {
          "base_uri": "https://localhost:8080/",
          "height": 34
        }
      },
      "cell_type": "code",
      "source": [
        "#Fuerza Bruta\n",
        "\n",
        "def distancia_fuerza_bruta(L):\n",
        "  mejor_distancia = 10000e10\n",
        "  \n",
        "  A,B = (),()\n",
        "  \n",
        "  for i in range(len(L)):\n",
        "    for j in range(i+1,len(L)):\n",
        "      D = distancia (L[i],L[j])\n",
        "      if D < mejor_distancia:\n",
        "        A,B = L[i], L[j]\n",
        "        mejor_distancia = D\n",
        "  return [A,B]\n",
        " \n",
        "distancia_fuerza_bruta(LISTA_2D)"
      ],
      "execution_count": 16,
      "outputs": [
        {
          "output_type": "execute_result",
          "data": {
            "text/plain": [
              "[(861, 590), (858, 597)]"
            ]
          },
          "metadata": {
            "tags": []
          },
          "execution_count": 16
        }
      ]
    },
    {
      "metadata": {
        "id": "wokgJ0LZPv9J",
        "colab_type": "code",
        "outputId": "1371fc57-9bb4-473e-adce-2afb291c29bc",
        "colab": {
          "base_uri": "https://localhost:8080/",
          "height": 51
        }
      },
      "cell_type": "code",
      "source": [
        "#Divide y Venceras\n",
        "\n",
        "def distancia_divide_y_venceras(L):\n",
        "  #Si hay pocos aplicamos fuerza Bruta \n",
        "  if len(L) < 10:\n",
        "    return distancia_fuerza_bruta(L)\n",
        "  \n",
        "  #Dividir en listas grades\n",
        "  #pivote = sum([ L[i][0] for i in range(len(L))]) / len(L) # Se calcula la media con la primera coordenada para ser usada como pivote\n",
        " \n",
        "  LISTA_IZQ = sorted (L, key=lambda x: x[0] )[:len(L)//2]\n",
        "  LISTA_DER = sorted (L, key=lambda x: x[0] )[len(L)//2:]\n",
        "  \n",
        "  PUNTOS_LISTA_IZQ = distancia_divide_y_venceras(LISTA_IZQ)\n",
        "  PUNTOS_LISTA_DER = distancia_divide_y_venceras(LISTA_DER)\n",
        "  \n",
        "  return distancia_fuerza_bruta(PUNTOS_LISTA_IZQ +  PUNTOS_LISTA_DER)\n",
        "  \n",
        "    \n",
        "@calcular_tiempo\n",
        "def LANZA(L):\n",
        "  return distancia_divide_y_venceras(L)\n",
        "  \n",
        "SOL = LANZA(LISTA_2D[:1000])\n",
        "print(SOL)"
      ],
      "execution_count": 17,
      "outputs": [
        {
          "output_type": "stream",
          "text": [
            "Tiempo de ejecución para algoritmo: 0.0010623931884765625\n",
            "[(705, 24), (714, 31)]\n"
          ],
          "name": "stdout"
        }
      ]
    },
    {
      "metadata": {
        "id": "dIX0OiiVJ9kR",
        "colab_type": "text"
      },
      "cell_type": "markdown",
      "source": [
        "**Viaje por el rio. Programación Dinámica**"
      ]
    },
    {
      "metadata": {
        "id": "U3YYcLGnW2Cq",
        "colab_type": "code",
        "outputId": "20817168-dcd9-4d61-96a2-075e2c881d04",
        "colab": {
          "base_uri": "https://localhost:8080/",
          "height": 88
        }
      },
      "cell_type": "code",
      "source": [
        "TARIFAS = [\n",
        "  [0,5,4,3,999,999,999],\n",
        "  [999,0,999,2,3,999,11],\n",
        "  [999,999, 0,1,999,4,10],\n",
        "  [999,999,999, 0,5,6,9],\n",
        "  [999,999, 999,999,0,999,4],\n",
        "  [999,999, 999,999,999,0,3],\n",
        "  [999,999,999,999,999,999,0]\n",
        "]\n",
        "\n",
        "#Viaje por el rio\n",
        "def Precios(TARIFAS):\n",
        "  N = len(TARIFAS[0])\n",
        "  \n",
        "  PRECIOS = [ [9999]*N for i in [9999]*N ]\n",
        "  RUTA = [[\"\"]*N for i in [9999]*N ]\n",
        "  \n",
        "  #print(PRECIOS)\n",
        "  #print(RUTA)\n",
        "  \n",
        "  for i in range(N-1):\n",
        "    for j in range(i+1, N):\n",
        "      MIN = TARIFAS[i][j]\n",
        "      RUTA[i][j] = i\n",
        "      \n",
        "      for k in range(i,j):\n",
        "        if PRECIOS[i][k] + TARIFAS[k][j] < MIN:\n",
        "          MIN = min (MIN , PRECIOS[i][k] + TARIFAS[k][j]  )\n",
        "          RUTA[i][j] = k\n",
        "      PRECIOS[i][j] = MIN\n",
        "      \n",
        "  return PRECIOS, RUTA\n",
        "  \n",
        "  \n",
        "PRECIOS, RUTA = Precios(TARIFAS)\n",
        "\n",
        "print(PRECIOS)\n",
        "\n",
        "print()\n",
        "\n",
        "print(RUTA)"
      ],
      "execution_count": 18,
      "outputs": [
        {
          "output_type": "stream",
          "text": [
            "[[9999, 5, 4, 3, 8, 8, 11], [9999, 9999, 999, 2, 3, 8, 7], [9999, 9999, 9999, 1, 6, 4, 7], [9999, 9999, 9999, 9999, 5, 6, 9], [9999, 9999, 9999, 9999, 9999, 999, 4], [9999, 9999, 9999, 9999, 9999, 9999, 3], [9999, 9999, 9999, 9999, 9999, 9999, 9999]]\n",
            "\n",
            "[['', 0, 0, 0, 1, 2, 5], ['', '', 1, 1, 1, 3, 4], ['', '', '', 2, 3, 2, 5], ['', '', '', '', 3, 3, 3], ['', '', '', '', '', 4, 4], ['', '', '', '', '', '', 5], ['', '', '', '', '', '', '']]\n"
          ],
          "name": "stdout"
        }
      ]
    },
    {
      "metadata": {
        "id": "qzxDQ4t2agTf",
        "colab_type": "code",
        "outputId": "e10a6fa2-bca4-4038-ae16-2e15ccf47230",
        "colab": {
          "base_uri": "https://localhost:8080/",
          "height": 68
        }
      },
      "cell_type": "code",
      "source": [
        "def calcular_ruta(RUTA, desde, hasta ):\n",
        "  if desde == hasta:\n",
        "    return desde \n",
        "  else:\n",
        "    return str(calcular_ruta(RUTA, desde, RUTA[desde][hasta])) +  ',' + str(RUTA[desde][hasta]) \n",
        "\n",
        "print(\"\\nLa ruta es:\")  \n",
        "calcular_ruta(RUTA, 0,6)"
      ],
      "execution_count": 20,
      "outputs": [
        {
          "output_type": "stream",
          "text": [
            "\n",
            "La ruta es:\n"
          ],
          "name": "stdout"
        },
        {
          "output_type": "execute_result",
          "data": {
            "text/plain": [
              "'0,0,2,5'"
            ]
          },
          "metadata": {
            "tags": []
          },
          "execution_count": 20
        }
      ]
    }
  ]
}