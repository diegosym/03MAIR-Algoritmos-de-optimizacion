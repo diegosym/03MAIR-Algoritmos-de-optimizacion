{
  "nbformat": 4,
  "nbformat_minor": 0,
  "metadata": {
    "colab": {
      "name": "Seminario_Diego_Cruz.ipynb",
      "version": "0.3.2",
      "provenance": [],
      "collapsed_sections": [],
      "include_colab_link": true
    },
    "kernelspec": {
      "name": "python3",
      "display_name": "Python 3"
    }
  },
  "cells": [
    {
      "cell_type": "markdown",
      "metadata": {
        "id": "view-in-github",
        "colab_type": "text"
      },
      "source": [
        "<a href=\"https://colab.research.google.com/github/diegosym/03MAIR-Algoritmos-de-optimizacion/blob/master/SEMINARIO/Seminario_Diego_Cruz.ipynb\" target=\"_parent\"><img src=\"https://colab.research.google.com/assets/colab-badge.svg\" alt=\"Open In Colab\"/></a>"
      ]
    },
    {
      "metadata": {
        "id": "hVbXYX-RfPWh",
        "colab_type": "text"
      },
      "cell_type": "markdown",
      "source": [
        "# Algoritmos de optimización - Seminario<br>\n",
        "**Nombre y Apellidos:** Diego Mauricio Cruz Hernandez <br>\n",
        "**Url:** https://github.com/diegosym/03MAIR-Algoritmos-de-optimizacion/tree/master/SEMINARIO<br>\n",
        "**Problema**:\n",
        ">1. **Organizar los horarios de partidos de La Liga**<br>\n",
        "\n",
        "\n",
        "Descripción del problema: Desde la Liga de fútbol profesional se pretende organizar los horarios de los partidos de liga de cada jornada. Se conocen algunos datos que nos deben llevar a diseñar un algoritmo que realice la asignación de los partidos a los horarios que maximice la audiencia. <br>\n",
        "\n",
        "\n",
        "Los horarios disponibles se conocen a priori y son los siguientes:\n",
        "\n",
        "<table>\n",
        "\n",
        "  <tr>\n",
        "\n",
        "    <td>Viernes</td>\n",
        "\n",
        "    <td>20</td>\n",
        "\n",
        "  </tr>\n",
        " <tr>\n",
        "\n",
        "    <td>Sabado</td>\n",
        "\n",
        "    <td>12, 16, 18, 20</td>\n",
        "\n",
        "  </tr>\n",
        "   <tr>\n",
        "\n",
        "    <td>Domingo</td>\n",
        "\n",
        "    <td>12, 16, 18, 20</td>\n",
        "\n",
        "  </tr>\n",
        "   <tr>\n",
        "\n",
        "    <td>Lunes</td>\n",
        "\n",
        "    <td>20</td>\n",
        "\n",
        "  </tr>\n",
        "\n",
        "</table>\n",
        "\n",
        "\n",
        "En primer lugar, se clasifican los equipos en tres categorías según el número de seguidores que tienen relación directa con la audiencia. Hay 4 equipos en la categoría A, 10 equipos de categoría B y 6 equipos de categoría C. <br>\n",
        "\n",
        "Se conoce estadísticamente la audiencia que genera cada partido según los equipos\n",
        "que se enfrentan y en horario de sábado a las 20h (el mejor en todos los casos)\n",
        "\n",
        "<table>\n",
        "\n",
        "  <tr>\n",
        "    \n",
        "      <th></th>\n",
        "\n",
        "      <th>Categoria A</th>\n",
        "\n",
        "      <th>Categoria B</th>\n",
        "\n",
        "      <th>Categoria C</th>\n",
        "\n",
        "  </tr>\n",
        "\n",
        "  <tr>\n",
        "\n",
        "      <th>Categoria A</th>\n",
        "\n",
        "      <td>2 Millones</td>\n",
        "\n",
        "      <td>1.3 Millones</td>\n",
        "\n",
        "       <td>1 Millones</td>\n",
        "\n",
        "  </tr>\n",
        "\n",
        "   <tr>\n",
        "\n",
        "      <th>Categoria B</th>\n",
        "\n",
        "      <td></td>\n",
        "\n",
        "      <td>0.9 Millones</td>\n",
        "\n",
        "       <td>0.75 Millones</td>\n",
        "\n",
        "  </tr>\n",
        "  \n",
        "   <tr>\n",
        "\n",
        "      <th>Categoria C</th>\n",
        "\n",
        "      <td></td>\n",
        "\n",
        "      <td></td>\n",
        "\n",
        "      <td>0.47 Millones</td>\n",
        "\n",
        "  </tr>\n",
        "</table>\n",
        "\n",
        "Si el horario del partido no se realiza a las 20 horas del sábado se sabe que se reduce\n",
        "según los coeficientes de la siguiente tabla:\n",
        "\n",
        "<table>\n",
        "\n",
        "  <tr>\n",
        "    \n",
        "      <th></th>\n",
        "\n",
        "      <th>Viernes</th>\n",
        "\n",
        "      <th>Sabado</th>\n",
        "\n",
        "      <th>Domingo</th>\n",
        "    \n",
        "      <th>Lunes</th>\n",
        "\n",
        "  </tr>\n",
        "\n",
        "  <tr>\n",
        "\n",
        "      <th>12h</th>\n",
        "\n",
        "      <td>-</td>\n",
        "\n",
        "      <td>0.55</td>\n",
        "\n",
        "      <td>0.45</td>\n",
        "    \n",
        "      <td>-</td>\n",
        "\n",
        "  </tr>\n",
        "\n",
        "   <tr>\n",
        "\n",
        "      <th>16h</th>\n",
        "\n",
        "      <td>-</td>\n",
        "\n",
        "      <td>0.7</td>\n",
        "\n",
        "      <td>0.75</td>\n",
        "     \n",
        "      <td>-</td>\n",
        "\n",
        "  </tr>\n",
        "  \n",
        "    <tr>\n",
        "\n",
        "      <th>18h</th>\n",
        "\n",
        "      <td>-</td>\n",
        "\n",
        "      <td>0.8</td>\n",
        "\n",
        "      <td>0.85</td>\n",
        "     \n",
        "      <td>-</td>\n",
        "\n",
        "  </tr>\n",
        "   <tr>\n",
        "\n",
        "      <th>20h</th>\n",
        "\n",
        "      <td>0.4</td>\n",
        "\n",
        "      <td>1</td>\n",
        "\n",
        "      <td>1</td>\n",
        "     \n",
        "      <td>0.4</td>\n",
        "\n",
        "  </tr>\n",
        "</table>\n",
        "\n",
        "Debemos asignar obligatoriamente siempre un partido el viernes y un partido el lunes <br>\n",
        "\n",
        "Es posible la coincidencia de horarios, pero en este caso la audiencia se verá afectada (no\n",
        "se acumula) y se repartirá según los siguientes criterios:<br>\n",
        "\n",
        "Se tomará la mejor audiencia y se repartirá según la siguiente ponderación:\n",
        "\n",
        "<ul>\n",
        "\n",
        "    <li type=\"square\">A = 4 puntos </li>\n",
        "    \n",
        "   <li type=\"square\">B = 2 puntos</li>\n",
        "  \n",
        "    <li type=\"square\">C = 1 punto</li>\n",
        "\n",
        "</ul>\n",
        "\n",
        "\n",
        "(*) La respuesta es obligatoria\n",
        "\n",
        "\n",
        "\n",
        "\n",
        "\n",
        "                                        "
      ]
    },
    {
      "metadata": {
        "id": "3_-exlrTgLd-",
        "colab_type": "text"
      },
      "cell_type": "markdown",
      "source": [
        "(*)¿Cuantas posibilidades hay sin tener en cuenta las restricciones?<br>\n",
        "\n",
        "\n",
        "\n",
        "¿Cuantas posibilidades hay teniendo en cuenta todas las restricciones.\n",
        "\n",
        "\n"
      ]
    },
    {
      "metadata": {
        "id": "WfCUqJyKhPcw",
        "colab_type": "text"
      },
      "cell_type": "markdown",
      "source": [
        "Respuesta"
      ]
    },
    {
      "metadata": {
        "id": "RJexR8K_FoaZ",
        "colab_type": "text"
      },
      "cell_type": "markdown",
      "source": [
        "Antes de calcular el espacio total de soluciones que tendríamos. Debemos tener en cuenta, dadas las condiciones del problema, que es posible tener partidos simultáneos en un mismo horario. Sin embargo, cuando esto ocurre solo se tendrá en cuenta la cantidad de espectadores del mejor partido, haciendo que la suma de los espectadores de los otros partidos no aporte a la solución. \n",
        "\n",
        "Por esta razón vamos a partir del supuesto que, para obtener una solución óptima, desde el comienzo no vamos a permitir la simultaneidad, ya que, en todos los casos, siempre será más optimo programar cada partido en una franja horaria diferente para garantizar que los espectadores que otorgan cada uno de ellos se tenga en cuenta en la solución. \n",
        "\n",
        "De esta forma nuestro espacio total de soluciones se ve reducido considerablemente y definido como la permutación de lo N partidos entre lo N horarios. Como en el caso específico del problema cada posible Jornada tendrá 10 partidos, que debemos acomodar en 10 franjas horarias fijas del fin de semana, la cantidad total de posibles soluciones será la siguiente:\n",
        "\n",
        "10! = 3.628.800 posibles soluciones.\n",
        "\n",
        "En cuanto a las restricciones del problema, la única que tenemos es que siempre se debe programar un partido el viernes y el lunes. Sin embargo, como asumimos que siempre vamos a utilizar todas las franjas horarias con un único partido, esta restricción siempre se cumpliría y no afectaría el espacio de soluciones calculado anteriormente.\t\n"
      ]
    },
    {
      "metadata": {
        "id": "dzynfVJahHoY",
        "colab_type": "text"
      },
      "cell_type": "markdown",
      "source": [
        "Modelo para el espacio de soluciones<br>\n",
        "(*) ¿Cual es la estructura de datos que mejor se adapta al problema? Argumentalo.(Es posible que hayas elegido una al principio y veas la necesidad de cambiar, arguentalo)\n"
      ]
    },
    {
      "metadata": {
        "id": "xFIJrOwKi2Ti",
        "colab_type": "text"
      },
      "cell_type": "markdown",
      "source": [
        "Respuesta"
      ]
    },
    {
      "metadata": {
        "id": "gDEq_ykwRQzr",
        "colab_type": "text"
      },
      "cell_type": "markdown",
      "source": [
        "Para representar los datos del problema se la plantean las siguientes estructuras: <br>\n",
        "\n",
        "1.  **Jornada:** Como entrada, el algoritmo debe recibir la jornada establecida para poder organizarla en los diferentes horarios. Esta Jornada la podemos representar por medio de un diccionario de Python. en donde los índices identificarán los partidos y los valores serán tuplas que nos darán la información de la categoría de los dos equipos que se enfrentan. Las categorías de los equipos las identificamos de la siguiente forma:: <br><br>\n",
        "0 -> Categoria A<br>\n",
        "1 -> Categoria B<br>\n",
        "2 -> Categoria C<br>\n",
        "<br>Por ejemplo un posible ítem del diccionario podría ser {3 : (0,2) } con el que identificamos que en el partido 3 se enfrentara un equipo de Categoría A contra un equipo de Categoría C.\n",
        "\n",
        "\n",
        "2.   **Ponderaciónes y Horarios:** Los horarios los podemos representar a través de una lista donde cada posición identificaría a cada una de las franjas horarias establecidas. Por lo tanto, tendríamos una lista de 10 posiciones donde la posición 0 será el horario del \"viernes a las 20:00 horas \"y la  posición 9 será el del \"lunes a las 20:00 horas\". Adicional para representar el porcentaje de audiencia que se tendrá en cuenta para cada horario, utilizaremos la misma estructura para tener una lista con las diferentes ponderaciones:\n",
        "\n",
        "<table>\n",
        "\n",
        "  <tr align=\"center\">\n",
        "    \n",
        "      <th></th>\n",
        "\n",
        "      <th>V20:00</th>\n",
        "\n",
        "      <th>S12:00</th>\n",
        "\n",
        "      <th>S16:00</th>\n",
        "    \n",
        "      <th>S18:00</th>\n",
        "    \n",
        "      <th>S20:00</th>\n",
        "    \n",
        "     <th>D12:00</th>\n",
        "\n",
        "      <th>D16:00</th>\n",
        "    \n",
        "      <th>D18:00</th>\n",
        "    \n",
        "      <th>D20:00</th>\n",
        "    \n",
        "      <th>L20:00</th>\n",
        "\n",
        "  </tr>\n",
        "\n",
        "  <tr align=\"center\">\n",
        "\n",
        "      <th>Posición</th>\n",
        "\n",
        "      <th>0</th>\n",
        "    \n",
        "      <th>1</th>\n",
        "    \n",
        "      <th>2</th>\n",
        "    \n",
        "      <th>3</th>\n",
        "    \n",
        "      <th>4</th>\n",
        "    \n",
        "      <th>5</th>\n",
        "    \n",
        "      <th>6</th>\n",
        "    \n",
        "      <th>7</th>\n",
        "    \n",
        "      <th>8</th>\n",
        "    \n",
        "      <th>9</th>\n",
        "\n",
        "      \n",
        "\n",
        "  </tr>\n",
        "\n",
        "   <tr align=\"center\">\n",
        "\n",
        "       <th>Porcentaje</th>\n",
        "\n",
        "      <td>0.4</td>\n",
        "    \n",
        "      <td>0.55</td>\n",
        "    \n",
        "      <td>0.7</td>\n",
        "    \n",
        "      <td>0.8</td>\n",
        "    \n",
        "      <td>1</td>\n",
        "    \n",
        "      <td>0.45</td>\n",
        "    \n",
        "      <td>0.75</td>\n",
        "    \n",
        "      <td>0.85</td>\n",
        "    \n",
        "      <td>1</td>\n",
        "    \n",
        "      <td>0.4</td>\n",
        "\n",
        "  </tr>\n",
        "  \n",
        "</table>\n",
        "\n",
        "\n",
        "3. **Matriz de espectadores:** Con el fin de calcular el número de espectadores de acuerdo a la categoría de los equipos que se enfrentan en cada partido, se define una matriz de 3x3 para que de forma fácil utilizando los valores de las tuplas se pueda recuperar el valor de espectadores, que deberá ser ponderado de acuerdo al horario donde se programe. Por lo tanto, la matriz quedara definida de la siguiente forma:\n",
        "\n",
        "<table>\n",
        "\n",
        "  <tr align=\"center\">\n",
        "    \n",
        "      <th></th>\n",
        "    \n",
        "      <th></th>\n",
        "\n",
        "      <th>Categoria A</th>\n",
        "\n",
        "      <th>Categoria B</th>\n",
        "\n",
        "      <th>Categoria C</th>\n",
        "\n",
        "  </tr>\n",
        "  \n",
        "  <tr align=\"center\">\n",
        "    \n",
        "      <th></th>\n",
        "    \n",
        "      <th></th>\n",
        "\n",
        "      <th>0</th>\n",
        "\n",
        "      <th>1</th>\n",
        "\n",
        "      <th>2</th>\n",
        "\n",
        "  </tr>\n",
        "\n",
        "  <tr align=\"center\">\n",
        "\n",
        "      <th>Categoria A</th>\n",
        "      \n",
        "      <th>0</th>\n",
        "\n",
        "      <td>2</td>\n",
        "\n",
        "      <td>1.3</td>\n",
        "\n",
        "       <td>1</td>\n",
        "\n",
        "  </tr>\n",
        "\n",
        "   <tr align=\"center\">\n",
        "\n",
        "      <th>Categoria B</th>\n",
        "     \n",
        "     <th>1</th>\n",
        "\n",
        "      <td>1.3</td>\n",
        "\n",
        "      <td>0.9</td>\n",
        "\n",
        "       <td>0.75</td>\n",
        "\n",
        "  </tr>\n",
        "  \n",
        "   <tr align=\"center\">\n",
        "\n",
        "      <th>Categoria C</th>\n",
        "     \n",
        "     <th>2</th>\n",
        "\n",
        "      <td>1</td>\n",
        "\n",
        "      <td>0.75</td>\n",
        "\n",
        "      <td>0.47</td>\n",
        "\n",
        "  </tr>\n",
        "</table>\n",
        "\n",
        "Si tomamos el ejemplo anterior  {3 : (0,2) } y remplazamos los valores en la matriz:  matriz[0][2] obtendremos el valor de 1 (1 millón de espectadores)\n",
        "\n",
        "4. **Solución:**  Finalmente, para representar las posibles soluciones, tendremos una lista con las 10 posiciones que representan los horarios y los valores de cada posición será el identificador del partido de acuerdo a los indicies del diccionario de la jornada.\n",
        "\n",
        "\n",
        "<table>\n",
        "\n",
        "  <tr align=\"center\">\n",
        "    \n",
        "      <th></th>\n",
        "\n",
        "      <th>V20:00</th>\n",
        "\n",
        "      <th>S12:00</th>\n",
        "\n",
        "      <th>S16:00</th>\n",
        "    \n",
        "      <th>S18:00</th>\n",
        "    \n",
        "      <th>S20:00</th>\n",
        "    \n",
        "     <th>D12:00</th>\n",
        "\n",
        "      <th>D16:00</th>\n",
        "    \n",
        "      <th>D18:00</th>\n",
        "    \n",
        "      <th>D20:00</th>\n",
        "    \n",
        "      <th>L20:00</th>\n",
        "\n",
        "  </tr>\n",
        "\n",
        "  <tr align=\"center\">\n",
        "\n",
        "      <th>Posición</th>\n",
        "\n",
        "      <th>0</th>\n",
        "    \n",
        "      <th>1</th>\n",
        "    \n",
        "      <th>2</th>\n",
        "    \n",
        "      <th>3</th>\n",
        "    \n",
        "      <th>4</th>\n",
        "    \n",
        "      <th>5</th>\n",
        "    \n",
        "      <th>6</th>\n",
        "    \n",
        "      <th>7</th>\n",
        "    \n",
        "      <th>8</th>\n",
        "    \n",
        "      <th>9</th>\n",
        "\n",
        "      \n",
        "\n",
        "  </tr>\n",
        "\n",
        "   <tr align=\"center\">\n",
        "\n",
        "       <th>Indice del partido</th>\n",
        "\n",
        "      <td>2</td>\n",
        "    \n",
        "      <td>9</td>\n",
        "    \n",
        "      <td>5</td>\n",
        "    \n",
        "      <td>7</td>\n",
        "    \n",
        "      <td>1</td>\n",
        "    \n",
        "      <td>10</td>\n",
        "    \n",
        "      <td>8</td>\n",
        "    \n",
        "      <td>3</td>\n",
        "    \n",
        "      <td>4</td>\n",
        "    \n",
        "      <td>6</td>\n",
        "\n",
        "  </tr>\n",
        "  \n",
        "</table>\n",
        "\n"
      ]
    },
    {
      "metadata": {
        "id": "38c-7-ejhJmA",
        "colab_type": "code",
        "colab": {}
      },
      "cell_type": "code",
      "source": [
        "JORNADA= {\n",
        "    1:  (1,2),\n",
        "    2:  (1,2),\n",
        "    3:  (1,0),\n",
        "    4:  (1,1),\n",
        "    5:  (1,1),\n",
        "    6:  (2,0),\n",
        "    7:  (0,1),\n",
        "    8:  (2,1),\n",
        "    9:  (1,0),\n",
        "    10: (1,1),\n",
        "}\n",
        "\n",
        "\n",
        "PONDERACION_HORARIOS = [0.4,\t0.55,\t0.7, 0.8, 1, 0.45, 0.75, 0.85, 1, 0.4]\n",
        "\n",
        "MAX_ESPECTADORES =   [\n",
        "  [2,   1.3 ,  1   ],\n",
        "  [1.3, 0.9 ,  0.75],\n",
        "  [1,   0.75,  0.47]\n",
        "]\n",
        "\n",
        "\n",
        "SOLUCION = [1,9,3,4,5,6,7,8,2,10]"
      ],
      "execution_count": 0,
      "outputs": []
    },
    {
      "metadata": {
        "id": "7Z9U2W7bi-XS",
        "colab_type": "text"
      },
      "cell_type": "markdown",
      "source": [
        "Según el modelo para el espacio de soluciones<br>\n",
        "(*)¿Cual es la función objetivo?\n",
        "\n",
        "(*)¿Es un problema de maximización o minimización?"
      ]
    },
    {
      "metadata": {
        "id": "hBalWLM7j1_d",
        "colab_type": "text"
      },
      "cell_type": "markdown",
      "source": [
        "Respuesta"
      ]
    },
    {
      "metadata": {
        "id": "UryPOz2lN6wO",
        "colab_type": "text"
      },
      "cell_type": "markdown",
      "source": [
        "Dada una solución, por ejemplo, una programación de [1,9,3,4,5,6,7,8,2,10]<br>\n",
        "\n",
        "Podemos diseñar una función que recorra la lista y devuelva la suma de los espectadores teniendo en cuenta la matriz de máximos espectadores y multiplicando por el valor de porcentaje, que se obtendrá de acuerdo a cada una de las posiciones de la lista de ponderación de horarios.\n",
        "\n",
        "\n",
        "Este es un problema de maximización\n"
      ]
    },
    {
      "metadata": {
        "id": "pDA-rg3Gj5Lz",
        "colab_type": "code",
        "outputId": "8468a468-5ef2-4b7a-9ba7-2f9e1f51fa50",
        "colab": {
          "base_uri": "https://localhost:8080/",
          "height": 34
        }
      },
      "cell_type": "code",
      "source": [
        "def obtener_espectadores_jornada(SOLUCION, JORNADA):\n",
        "  sum_espectadores = 0\n",
        "  \n",
        "  for i in range(0,len(SOLUCION)):  #recorre todos los partidos del vector solución\n",
        "         \n",
        "      if SOLUCION[i] != 0:\n",
        "       \n",
        "        partido = JORNADA[int(SOLUCION[i])]   # obtiene la tupla con las categorias de los equipos que se enfretan\n",
        "        sum_espectadores += MAX_ESPECTADORES[ partido[0] ][ partido[1] ] * PONDERACION_HORARIOS[i]  # Calcula la cantidad de espectadores deacuerdo a las categorias y al horario de partido.\n",
        "          \n",
        "  return sum_espectadores\n",
        "\n",
        "solucion = [1,9,3,4,5,6,7,8,2,10]\n",
        "\n",
        "print(obtener_espectadores_jornada(solucion, JORNADA))"
      ],
      "execution_count": 15,
      "outputs": [
        {
          "output_type": "stream",
          "text": [
            "6.717500000000001\n"
          ],
          "name": "stdout"
        }
      ]
    },
    {
      "metadata": {
        "id": "rlnTYgY1j6I2",
        "colab_type": "text"
      },
      "cell_type": "markdown",
      "source": [
        "Diseña un algoritmo para resolver el problema por fuerza bruta"
      ]
    },
    {
      "metadata": {
        "id": "70rDgxYXkC8r",
        "colab_type": "text"
      },
      "cell_type": "markdown",
      "source": [
        "Respuesta"
      ]
    },
    {
      "metadata": {
        "id": "6j80umC6VPOA",
        "colab_type": "text"
      },
      "cell_type": "markdown",
      "source": [
        "Para implementar un algoritmo de fuerza bruta, es necesario evaluar todas las posibles soluciones e ir almacenando siempre la mejor, de esta forma cuando el algoritmo logre recorrer todas las combinaciones podemos garantizar que obtendremos la solución óptima.  \n",
        "\n",
        "En este caso concreto tendremos una lista de 10 elementos, donde cada elemento representa el código del partido y su posición el horario. por lo tanto, el algoritmo debe permutar estos 10 elementos y cada combinación evaluarla con la función objetivo.  Si el resultado de la función objetivo para una solución supera al anterior, se almacena la nueva solución y se repite el proceso hasta evaluar todas las combinaciones y obtener la solución óptima. \n",
        "\n",
        "Como se analizó en el primer punto, este algoritmo deberá evaluar 3.628.800 combinaciones para encontrar la solución óptima. Con el poder de computo actual, es posible obtener la respuesta optima en menos de un minuto. Sin embargo, si necesitáramos encontrar la solución para jornadas con mayor cantidad de partidos, el número de combinaciones sería demasiado grande y es posible que este tipo de algoritmo no pueda encontrar una solución óptima en un tiempo razonable.\n",
        "\n",
        "\n"
      ]
    },
    {
      "metadata": {
        "id": "RpBDbOSCTg2P",
        "colab_type": "code",
        "colab": {}
      },
      "cell_type": "code",
      "source": [
        "# Decorador para calcular tiempo a la funcion para la cual queremos calcular el tiempo de ejecución \n",
        "from time import time\n",
        "#Función para calcular el tiempo de ejecución\n",
        "def calcular_tiempo(f):\n",
        "   \n",
        "    def wrapper(*args, **kwargs):        \n",
        "        inicio = time()       \n",
        "        resultado = f(*args, **kwargs)       \n",
        "        tiempo = time() - inicio\n",
        "        print(\"Tiempo de ejecución para algoritmo: \"+str(tiempo))\n",
        "        return resultado\n",
        "    \n",
        "    return wrapper\n"
      ],
      "execution_count": 0,
      "outputs": []
    },
    {
      "metadata": {
        "id": "CJb5sQ0qkENy",
        "colab_type": "code",
        "colab": {}
      },
      "cell_type": "code",
      "source": [
        "# Función para encontrar la mejor programación de los partidos. Utiliza la fuerza bruta para explorar todo el espacio de soluciones y encontrar la distribución que genera más espectadores.\n",
        "# Datos de entrada:\n",
        "# partidos : Lista con los identificadores de los partidos\n",
        "# solucion : Variable que se usa para construir todas las posibles combinaciones, para posteriormente evaluarla con nuestra función objetivo.\n",
        "# etapa: variable de control que nos permitira identificar las etapas de la recursividad y que usaremos como punto de parada para la misma.\n",
        "# mejor_jornada: Lista que ira ira almacenando la mejor solución de acuerdo a la función objetivo. Al final esta lista contendra la solución optima para resolver el problema.\n",
        "# JORNADA: Recibe el listado con la jornada de enfrentamientos de los equipos y sus categorias.\n",
        "\n",
        "def obtener_programacion_jornada(partidos, solucion,  etapa , mejor_jornada, JORNADA ):\n",
        " \n",
        "  if etapa == len(partidos):\n",
        "    solucion = solucion.split(\",\")\n",
        "    solucion.pop() \n",
        "    espectadores  = obtener_espectadores_jornada(solucion, JORNADA)\n",
        "    return [espectadores, solucion] if espectadores > mejor_jornada[0] else mejor_jornada\n",
        "  \n",
        "  else: \n",
        "    for i  in range(0,len(partidos)):\n",
        "      if str(partidos[i]) not in solucion:\n",
        "        mejor_jornada = obtener_programacion_jornada(partidos, solucion + str(partidos[i])+\",\", etapa + 1, mejor_jornada,JORNADA )\n",
        "        \n",
        "  return mejor_jornada\n"
      ],
      "execution_count": 0,
      "outputs": []
    },
    {
      "metadata": {
        "id": "pbaw8a9GBfBq",
        "colab_type": "code",
        "outputId": "73d18071-bb05-48b7-ea87-5ddcd0e601e1",
        "colab": {
          "base_uri": "https://localhost:8080/",
          "height": 51
        }
      },
      "cell_type": "code",
      "source": [
        "solucion = \"\"\n",
        "etapa =0  \n",
        "partidos = list(JORNADA.keys())\n",
        "mejor_jornada = [0,\"\"]\n",
        "  \n",
        "\n",
        "@calcular_tiempo\n",
        "def LANZA():\n",
        "    print(obtener_programacion_jornada(partidos, solucion,  etapa, mejor_jornada, JORNADA ))\n",
        "\n",
        "LANZA()\n"
      ],
      "execution_count": 18,
      "outputs": [
        {
          "output_type": "stream",
          "text": [
            "[7.2425, ['1', '4', '5', '6', '3', '2', '10', '7', '9', '8']]\n",
            "Tiempo de ejecución para algoritmo: 24.43606424331665\n"
          ],
          "name": "stdout"
        }
      ]
    },
    {
      "metadata": {
        "id": "tgrnsC2nkFa8",
        "colab_type": "text"
      },
      "cell_type": "markdown",
      "source": [
        "Calcula la complejidad del algoritmo por fuerza bruta"
      ]
    },
    {
      "metadata": {
        "id": "9eUd3xwckP68",
        "colab_type": "text"
      },
      "cell_type": "markdown",
      "source": [
        "Respuesta"
      ]
    },
    {
      "metadata": {
        "id": "OsrRhPUXigPI",
        "colab_type": "text"
      },
      "cell_type": "markdown",
      "source": [
        "Como el diseño del algoritmo es por fuerza bruta, es necesario construir todas las posibles combinaciones horarias de los partidos, para estos nos apoyamos en la recursividad y por lo tanto dentro del algoritmo estamos realizando un recorrido N veces, que realiza N llamadas recursivas. Esto nos ayuda a construir las posibles permutaciones. sin embargo, obtenemos una complejidad **exponencial**, que para valores grades de N este algoritmo ya no es viable y por eso se hace necesario el uso de otras técnicas."
      ]
    },
    {
      "metadata": {
        "id": "rvZWwL-ckRST",
        "colab_type": "code",
        "colab": {}
      },
      "cell_type": "code",
      "source": [
        ""
      ],
      "execution_count": 0,
      "outputs": []
    },
    {
      "metadata": {
        "id": "txbrmLmskReM",
        "colab_type": "text"
      },
      "cell_type": "markdown",
      "source": [
        "(*)Diseña un algoritmo que mejore la complejidad del algortimo por fuerza bruta. Argumenta porque crees que mejora el algoritmo por fuerza bruta"
      ]
    },
    {
      "metadata": {
        "id": "hLrVwt5QkZPD",
        "colab_type": "text"
      },
      "cell_type": "markdown",
      "source": [
        "Respuesta"
      ]
    },
    {
      "metadata": {
        "id": "pe6_q_cSVVyv",
        "colab_type": "text"
      },
      "cell_type": "markdown",
      "source": [
        "Dadas las condiciones del problema y el supuesto de que para lograr encontrar la solución óptima no es viable dejar partidos en simultaneo, podemos diseñar un algoritmo utilizando **técnicas voraces**, básicamente consiste en dividir el problema en etapas, donde en cada una de ellas se debe seleccionar el partido que genere mayor audiencia para ubicarlo en el horario con mayor porcentaje,  una vez seleccionado un partido y un horario ya no se tendrá en cuenta en las etapas posteriores y se deberá repetir el mismo criterio de selección con los partidos y horarios que queden. \n",
        "\n",
        "Para modelar este algoritmo, partiremos en ordenar la lista de partidos por los que generan mayor audiencia de acuerdo a nuestra matriz de espectadores y ordenar la lista de ponderación de horarios. Una vez tenemos estas listad ordenadas, las utilizamos como una estructura de Pila la cual iremos iterando y por cada etapa retiramos la última posición de las dos listas, las cuales representarían el mejor partido con el mejor horario en cada iteración. \n",
        "\n",
        "Este proceso se repite mientras existan elementos en las Pilas. Cuando las Pilas queden vacías, tendremos construida una única solución la cual evaluaremos con nuestra función objetivo y por la naturaleza de las técnicas voraces, podemos garantizar que dicha solución nos devolverá la cantidad máxima de espectadores que podremos obtener con la Jornada ingresada. \n",
        "\n",
        "Por tanto, es evidente que hemos mejorado la complejidad con respecto al algoritmo de fuerza bruta, ya que en este algoritmo solo fue necesario evaluar una única solución y no todo el espacio de soluciones posibles. El criterio de complejidad de este algoritmo radica en ordenar las listas de partidos y horarios, pero aprovechando los métodos de Python podemos garantizar una complejidad máxima de O(n log n)  para realizar este proceso.\n"
      ]
    },
    {
      "metadata": {
        "id": "m1eyM21Vkabg",
        "colab_type": "code",
        "outputId": "57462858-3822-4c77-f811-c2cdde17b081",
        "colab": {
          "base_uri": "https://localhost:8080/",
          "height": 51
        }
      },
      "cell_type": "code",
      "source": [
        "# Función para encontrar la mejor programación de los partidos. Utilizando una tecnica voraz, busca encontrar en cada etapa el mejor partido para ubicarlo en el mejor horario. Al final construye una unica solución que sera la más óptima.\n",
        "# Datos de entrada\n",
        "# JORNADA: Recibe el listado con la jornada de enfrentamientos de los equipos y sus categorias.\n",
        "# Nota el algoritmo hace uso de las listas de MAX_ESPECTADORES, PONDERACION_HORARIOS. Las cuales estan definidas de manera global par los dos algoritmos, ya que son datos iniciales del problema que no cambian.\n",
        "\n",
        "@calcular_tiempo\n",
        "def obtner_programacion_jornada_voraz(JORNADA):\n",
        "  \n",
        "  lista_partidos  = sorted(JORNADA.items(), key=lambda k: MAX_ESPECTADORES[k[1][0]][k[1][1]]    )  # Se ordena los partidos de acuerdo al número de espectadores que se tendria en el horario más optimo.\n",
        "  lista_horarios  = sorted(range(len(PONDERACION_HORARIOS)), key=lambda k: PONDERACION_HORARIOS[k]) # Se ordenan los porcentajes de los horarios de menor a mayor\n",
        "  \n",
        "  solucion  = [0 for i in range (len(PONDERACION_HORARIOS) )]   # Se inicializa la lista que contendra la distribución optima de los partidos \n",
        "     \n",
        "  while len(lista_partidos) > 0 and len(lista_horarios) > 0 :   # se iteran las dos listas hasta que no queden elementos en alguna de las dos listas \n",
        "    partido = lista_partidos.pop()                     \n",
        "    horario = lista_horarios.pop()\n",
        "    solucion[horario] = partido[0]\n",
        "    \n",
        "  espectadores  = obtener_espectadores_jornada(solucion, JORNADA)   # Se evalua la solución obtenida.\n",
        "  return [espectadores, solucion]\n",
        "  \n",
        "obtner_programacion_jornada_voraz(JORNADA)"
      ],
      "execution_count": 19,
      "outputs": [
        {
          "output_type": "stream",
          "text": [
            "Tiempo de ejecución para algoritmo: 3.6716461181640625e-05\n"
          ],
          "name": "stdout"
        },
        {
          "output_type": "execute_result",
          "data": {
            "text/plain": [
              "[7.2425, [1, 4, 5, 6, 7, 8, 10, 3, 9, 2]]"
            ]
          },
          "metadata": {
            "tags": []
          },
          "execution_count": 19
        }
      ]
    },
    {
      "metadata": {
        "id": "eGDB4K6uk1iN",
        "colab_type": "text"
      },
      "cell_type": "markdown",
      "source": [
        "(*)Calcula la complejidad del algoritmo "
      ]
    },
    {
      "metadata": {
        "id": "NhpTh_BPk1ms",
        "colab_type": "text"
      },
      "cell_type": "markdown",
      "source": [
        "Respuesta"
      ]
    },
    {
      "metadata": {
        "id": "uQ8t5cNZdzON",
        "colab_type": "text"
      },
      "cell_type": "markdown",
      "source": [
        "Para determinar la complejidad del algoritmo analizaremos cada uno de los componentes:\n",
        "\n",
        "*  **Ordenar lista de partidos:** Se utiliza la función sorted de Python que internamente trabaja con un algoritmo de complejidad = O (n log n) \n",
        "*  **Ordenar lista de horarios:** Se utiliza la función sorted de Python que internamente trabaja con un algoritmo de complejidad  = O (n log n) \n",
        "*  **Recorrido de las listas:** Se realiza un ciclo while con 4 operaciones elementales. Complejidad =  4n \n",
        "*  **Evaluar solución** Se usa nuestra función objetivo de complejidad O(n)\n",
        "*  **Asignaciones y retornos** Observamos 2 operaciones elementales.\n",
        "\n",
        "En conclusión, como se comentó en el diseño del algoritmo. Las operaciones criticas están dadas en el ordenamiento de las listas de partidos y horarios por lo tanto podemos calcular una complejidad para este algoritmo de **O (n log n)**.\n",
        "\n"
      ]
    },
    {
      "metadata": {
        "id": "nREzhkStlCq8",
        "colab_type": "code",
        "colab": {}
      },
      "cell_type": "code",
      "source": [
        ""
      ],
      "execution_count": 0,
      "outputs": []
    },
    {
      "metadata": {
        "id": "3M6QjTsSkmYe",
        "colab_type": "text"
      },
      "cell_type": "markdown",
      "source": [
        "Según el problema (y tenga sentido), diseña un juego de datos de entrada aleatorios"
      ]
    },
    {
      "metadata": {
        "id": "Jc3_OlyNkvjZ",
        "colab_type": "text"
      },
      "cell_type": "markdown",
      "source": [
        "Respuesta"
      ]
    },
    {
      "metadata": {
        "id": "sJ-N2etjkyWc",
        "colab_type": "code",
        "outputId": "a19923a4-5f1e-4f4e-c4fa-8fc2c98dccb4",
        "colab": {
          "base_uri": "https://localhost:8080/",
          "height": 187
        }
      },
      "cell_type": "code",
      "source": [
        "import random\n",
        "\n",
        "def imprimir_solucion(solucion, JORNADA_EQUIPOS):\n",
        "  horarios = [\"V20:00\",\"S12:00\", \"S16:00\", \"S18:00\", \"S20:00\", \"D12:00\", \"D16:00\", \"D18:00\", \"D20:00\", \"L20:00\"]\n",
        "  print(\"\")\n",
        "  print(\"PROGRAMACION DE JORNADA OPTIMA\") \n",
        "  print(\"\")\n",
        "  for idx, s in enumerate(solucion[1]):\n",
        "    print (\"{} : {}-{}\".format(horarios[idx], JORNADA_EQUIPOS[s-1][0][1], JORNADA_EQUIPOS[s-1][1][1]))\n",
        "\n",
        "  print(\"\")\n",
        "  print(\"CANTIDAD MAXIMA DE ESPECTADORES: \"+ str(solucion[0])) \n",
        "\n",
        "EQUIPOS =[\n",
        "    (0,\"Barcelona\"),\n",
        "    (0,\"Real Madrid\"),\n",
        "    (0,\"Atl. Madrid\"),\n",
        "    (0,\"Valencia\"),\n",
        "    \n",
        "    (1,\"Espanyol\"),\n",
        "    (1,\"Getafe\"),\n",
        "    (1,\"Sevilla\"),\n",
        "    (1,\"Alaves\"),\n",
        "    (1,\"Celta Vigo\"),\n",
        "    (1,\"Ath Bilbao\"),\n",
        "    (1,\"Eibar\"),\n",
        "    (1,\"Betis\"),\n",
        "    (1,\"Villareal\"),\n",
        "    (1,\"Levante\"),\n",
        "\n",
        "    (2,\"Huesca\"),\n",
        "    (2,\"Rayo Vallecano\"),    \n",
        "    (2,\"Leganes\"),\n",
        "    (2,\"Valladolid\"),    \n",
        "    (2,\"Girona\"),\n",
        "    (2,\"Real Sociedad\"),    \n",
        "    \n",
        "]\n",
        "\n",
        "random.shuffle(EQUIPOS)\n",
        "\n",
        "JORNADA_EQUIPOS = [ [EQUIPOS[i] ,  EQUIPOS[i+1]]  for i in range(0, len(EQUIPOS)-1, 2) ]\n",
        "\n",
        "JORNADA= { idx+1: (val[0][0], val[1][0])   for idx, val in enumerate(JORNADA_EQUIPOS)}\n",
        "\n",
        "JORNADA\n"
      ],
      "execution_count": 24,
      "outputs": [
        {
          "output_type": "execute_result",
          "data": {
            "text/plain": [
              "{1: (1, 1),\n",
              " 2: (1, 2),\n",
              " 3: (2, 0),\n",
              " 4: (1, 1),\n",
              " 5: (2, 2),\n",
              " 6: (1, 1),\n",
              " 7: (1, 2),\n",
              " 8: (0, 0),\n",
              " 9: (2, 1),\n",
              " 10: (0, 1)}"
            ]
          },
          "metadata": {
            "tags": []
          },
          "execution_count": 24
        }
      ]
    },
    {
      "metadata": {
        "id": "zy5ZROmjlGo1",
        "colab_type": "text"
      },
      "cell_type": "markdown",
      "source": [
        "Aplica el algoritmo al juego de datos generado"
      ]
    },
    {
      "metadata": {
        "id": "_Cmj-PVylMsa",
        "colab_type": "text"
      },
      "cell_type": "markdown",
      "source": [
        "Respuesta"
      ]
    },
    {
      "metadata": {
        "id": "Jkx8GeiYlUz1",
        "colab_type": "code",
        "outputId": "03414e3d-d47f-44c8-8156-0ebac0039762",
        "colab": {
          "base_uri": "https://localhost:8080/",
          "height": 289
        }
      },
      "cell_type": "code",
      "source": [
        "solucion = obtner_programacion_jornada_voraz(JORNADA)\n",
        "\n",
        "imprimir_solucion(solucion, JORNADA_EQUIPOS)"
      ],
      "execution_count": 25,
      "outputs": [
        {
          "output_type": "stream",
          "text": [
            "Tiempo de ejecución para algoritmo: 4.124641418457031e-05\n",
            "\n",
            "PROGRAMACION DE JORNADA OPTIMA\n",
            "\n",
            "V20:00 : Valladolid-Girona\n",
            "S12:00 : Huesca-Levante\n",
            "S16:00 : Eibar-Villareal\n",
            "S18:00 : Ath Bilbao-Espanyol\n",
            "S20:00 : Valencia-Getafe\n",
            "D12:00 : Alaves-Real Sociedad\n",
            "D16:00 : Betis-Sevilla\n",
            "D18:00 : Leganes-Barcelona\n",
            "D20:00 : Real Madrid-Atl. Madrid\n",
            "L20:00 : Celta Vigo-Rayo Vallecano\n",
            "\n",
            "CANTIDAD MAXIMA DE ESPECTADORES: 7.413\n"
          ],
          "name": "stdout"
        }
      ]
    },
    {
      "metadata": {
        "colab_type": "text",
        "id": "eTFWUJQrtGcv"
      },
      "cell_type": "markdown",
      "source": [
        "Enumera las referencias que has utilizado(si ha sido necesario) para llevar a cabo el trabajo"
      ]
    },
    {
      "metadata": {
        "id": "YKQ_mRBttWsP",
        "colab_type": "text"
      },
      "cell_type": "markdown",
      "source": [
        "Respuesta"
      ]
    },
    {
      "metadata": {
        "id": "bLglpSths5y0",
        "colab_type": "text"
      },
      "cell_type": "markdown",
      "source": [
        "Tomo como referencia estos sitios  para aprender a ordenar las listas con expresiones lambda  para el diseño del algoritmo voraz: \n",
        "\n",
        "\n",
        "*   [Python — List Sorting, Keys & Lambdas](https://medium.com/@johngrant/python-list-sorting-keys-lambdas-1903b2a4c949)\n",
        "*   [Sorted Funhction](https://https://python-reference.readthedocs.io/en/latest/docs/functions/sorted.html)\n",
        "\n"
      ]
    },
    {
      "metadata": {
        "id": "kAkDPUyRtYyH",
        "colab_type": "text"
      },
      "cell_type": "markdown",
      "source": [
        "Describe brevemente las lineas de como crees que es posible avanzar en el estudio del problema. Ten en cuenta incluso posibles variaciones del problema y/o variaciones al alza del tamaño"
      ]
    },
    {
      "metadata": {
        "id": "IE0uZmo-tZu-",
        "colab_type": "text"
      },
      "cell_type": "markdown",
      "source": [
        "Respuesta"
      ]
    },
    {
      "metadata": {
        "id": "ka6W0oBuVS1J",
        "colab_type": "text"
      },
      "cell_type": "markdown",
      "source": [
        "Este problema en específico se pudo abordar y optimizar por medio de técnicas voraces dado que teníamos una cantidad igual de partidos y franjas horarias. En caso de que tuviéramos más partidos que horarios, se hace necesario programar más de un partido para el mismo horario y ya no es posible seleccionar un único candidato por cada etapa.\n",
        "Sin embargo, incluso en este escenario podríamos seguir usando el algoritmo voraz para tratar de acomodar cada partido en único horario y aquellos que sobren ubicarlos en un horario aleatorio, ya que como comentamos al comienzo, los espectadores de estos partidos no se tendrían en cuenta.\n",
        "\n",
        "Por lo tanto, una variación a este problema consistiría en modificar el sistema de ponderación para los partidos simultáneos, principalmente modificando que cuando ocurra la simultaneidad no se tenga en cuenta solo los espectadores del mejor partido, sino que sea una sumatoria ponderada entre la cantidad de espectadores de cada partido. De esta forma podríamos obtener soluciones en donde sea más optimo tener partidos simultáneos en horarios con mayor porcentaje, sin importar que otros horarios queden vacios.\n",
        "\n",
        "Con este cambio, la cantidad de posibles soluciones aumentaría de forma que si tenemos n partidos y m horarios el espacio de soluciones estaría marcado como n^m. En nuestro caso concreto seria 10 ^10 = 10.000.000.000. Como se observa la cantidad de combinaciones es demasiado grande para explorarlas todas y encontrar la solución óptima. Se puede tratar de diseñar algoritmos por métodos exactos como Ramificación y Poda o Divide y Vencerás y aun así es probable que tomen demasiado tiempo en encontrar la solución óptima. Y si además si las Jornadas crecen en número de partidos, con 1 o 2 partidos adicionales el espacio de soluciones aumenta exponencialmente y en este caso ya será recomendable abordar este problema por medio de técnicas Heurísticas con el fin de encontrar buenas soluciones sin la garantía de obtener la solución óptima.\n"
      ]
    }
  ]
}